{
 "cells": [
  {
   "cell_type": "markdown",
   "metadata": {},
   "source": [
    "# Lab 01 - Flights Data Exploration \n",
    "\n",
    "In this Lab you'll explore a real-world dataset containing flights data from the US Department of Transportation.\n",
    "\n",
    "Let's start by loading and viewing the data."
   ]
  },
  {
   "cell_type": "code",
   "execution_count": null,
   "metadata": {},
   "outputs": [],
   "source": [
    "import pandas as pd\n",
    "\n",
    "df_flights = pd.read_csv('data/flights.csv')\n",
    "df_flights                                                         "
   ]
  },
  {
   "cell_type": "markdown",
   "metadata": {},
   "source": [
    "The dataset contains observations of US domestic flights in 2013, and consists of the following fields:\n",
    "\n",
    "- **Year**: The year of the flight (all records are from 2013)\n",
    "- **Month**: The month of the flight\n",
    "- **DayofMonth**: The day of the month on which the flight departed\n",
    "- **DayOfWeek**: The day of the week on which the flight departed - from 1 (Monday) to 7 (Sunday)\n",
    "- **Carrier**: The two-letter abbreviation for the airline.\n",
    "- **OriginAirportID**: A unique numeric identifier for the departure aiport\n",
    "- **OriginAirportName**: The full name of the departure airport\n",
    "- **OriginCity**: The departure airport city\n",
    "- **OriginState**: The departure airport state\n",
    "- **DestAirportID**: A unique numeric identifier for the destination aiport\n",
    "- **DestAirportName**: The full name of the destination airport\n",
    "- **DestCity**: The destination airport city\n",
    "- **DestState**: The destination airport state\n",
    "- **CRSDepTime**: The scheduled departure time\n",
    "- **DepDelay**: The number of minutes departure was delayed (flight that left ahead of schedule have a negative value)\n",
    "- **DelDelay15**: A binary indicator that departure was delayed by more than 15 minutes (and therefore considered \"late\")\n",
    "- **CRSArrTime**: The scheduled arrival time\n",
    "- **ArrDelay**: The number of minutes arrival was delayed (flight that arrived ahead of schedule have a negative value)\n",
    "- **ArrDelay15**: A binary indicator that arrival was delayed by more than 15 minutes (and therefore considered \"late\")\n",
    "- **Cancelled**: A binary indicator that the flight was cancelled\n",
    "\n",
    "Your challenge is to explore the flight data to analyze possible factors that affect delays in departure or arrival of a flight.\n",
    "        \n",
    "Add markdown and code cells as required to create your solution."
   ]
  },
  {
   "cell_type": "markdown",
   "metadata": {},
   "source": [
    "## Data Cleaning"
   ]
  },
  {
   "cell_type": "markdown",
   "metadata": {},
   "source": [
    "### Deal with null values\n",
    "- Identify any null or missing data \n",
    "- Impute appropriate replacement values.\n",
    "\n",
    "Hint: Remember to use the definitions to understand what each column means!"
   ]
  },
  {
   "cell_type": "code",
   "execution_count": null,
   "metadata": {},
   "outputs": [],
   "source": []
  },
  {
   "cell_type": "markdown",
   "metadata": {},
   "source": [
    "### Deal with outliers\n",
    "- Find mean, median, mode, maximum and minimum for **DepDelay** and **ArrDelay** columns.\n",
    "- Plot the distribution for these 2 columns. You can do either a histogram, a boxplot or both.\n",
    "- Use these to identify any outliers in the data.\n",
    "- Re-adjust the data so that it doesn't contain these outliers.\n",
    "\n",
    "Hints: \n",
    "- There is no perfect re-adjusment, don't obsess over it!\n",
    "- Your re-adjustment should look like a normal distribution!"
   ]
  },
  {
   "cell_type": "code",
   "execution_count": null,
   "metadata": {},
   "outputs": [],
   "source": []
  },
  {
   "cell_type": "markdown",
   "metadata": {},
   "source": [
    "## Information extraction"
   ]
  },
  {
   "cell_type": "markdown",
   "metadata": {},
   "source": [
    "Use statistics, aggregate functions, and visualizations to answer the following questions:\n",
    "- What are the average (mean) departure and arrival delays?\n",
    "- How do the carriers compare in terms of arrival delay performance?\n",
    "- Is there a noticable difference in arrival delays for different days of the week?\n",
    "- Which departure airport has the highest average departure delay?\n",
    "- Do **late** departures tend to result in longer arrival delays than on-time departures?\n",
    "- Which route (from origin airport to destination airport) has the most **late** arrivals?\n",
    "- Which route has the highest average arrival delay?"
   ]
  },
  {
   "cell_type": "code",
   "execution_count": null,
   "metadata": {},
   "outputs": [],
   "source": []
  }
 ],
 "metadata": {
  "kernelspec": {
   "display_name": "Python 3.9.12 ('base')",
   "language": "python",
   "name": "python3"
  },
  "language_info": {
   "codemirror_mode": {
    "name": "ipython",
    "version": 3
   },
   "file_extension": ".py",
   "mimetype": "text/x-python",
   "name": "python",
   "nbconvert_exporter": "python",
   "pygments_lexer": "ipython3",
   "version": "3.9.12"
  },
  "vscode": {
   "interpreter": {
    "hash": "d4f1514b11f248d1ee282f01ad44d31c5e7fd546868f82571748cb3f4969204d"
   }
  }
 },
 "nbformat": 4,
 "nbformat_minor": 4
}
