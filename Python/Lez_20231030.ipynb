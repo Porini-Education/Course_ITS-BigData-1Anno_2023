{
 "cells": [
  {
   "cell_type": "code",
   "execution_count": 1,
   "metadata": {},
   "outputs": [
    {
     "name": "stdout",
     "output_type": "stream",
     "text": [
      "[1, '2', 3, 4, 5.0]\n",
      "2\n",
      "36\n"
     ]
    }
   ],
   "source": [
    "# Scalar values\n",
    "\n",
    "var_int = 10\n",
    "var_bool = True\n",
    "var_float = 10.5\n",
    "var_none = None\n",
    "\n",
    "# Collections of values\n",
    "\n",
    "var_str = \"Hello World\"\n",
    "var_list = [1, \"2\", 3, 4, 5.0]\n",
    "var_tuple = (1, 2, 3, 4, 5)\n",
    "var_dict = {\"name\": \"John\", \"age\": 36}\n",
    "\n",
    "# Print values\n",
    "\n",
    "print(var_list)\n",
    "print(var_list[1])\n",
    "\n",
    "print(var_dict[\"age\"])"
   ]
  },
  {
   "cell_type": "code",
   "execution_count": 2,
   "metadata": {},
   "outputs": [
    {
     "name": "stdout",
     "output_type": "stream",
     "text": [
      "[10, True, 10.5]\n"
     ]
    }
   ],
   "source": [
    "var_list2 = [var_int, var_bool, var_float]\n",
    "print(var_list2)"
   ]
  },
  {
   "cell_type": "code",
   "execution_count": 3,
   "metadata": {},
   "outputs": [
    {
     "name": "stdout",
     "output_type": "stream",
     "text": [
      "10\n"
     ]
    }
   ],
   "source": [
    "print(str(var_int))\n",
    "\n",
    "var_str2 = str(var_int)\n",
    "# non con tutti i valori: int(var_str)"
   ]
  },
  {
   "cell_type": "code",
   "execution_count": 4,
   "metadata": {},
   "outputs": [],
   "source": [
    "var_float2 = 43.5\n",
    "var_int2 = int(var_float2)\n",
    "var_str3 = str(var_float2)\n",
    "var_bool2 = (var_float2 == var_float2)"
   ]
  },
  {
   "cell_type": "code",
   "execution_count": 5,
   "metadata": {},
   "outputs": [
    {
     "name": "stdout",
     "output_type": "stream",
     "text": [
      "20.5\n",
      "-0.5\n",
      "105.0\n",
      "0.9523809523809523\n",
      "1000\n",
      "1\n",
      "3\n"
     ]
    }
   ],
   "source": [
    "addizione = var_int + var_float\n",
    "print(addizione)\n",
    "\n",
    "sottrazione = var_int - var_float\n",
    "print(sottrazione)\n",
    "\n",
    "moltiplicazione = var_int * var_float\n",
    "print(moltiplicazione)\n",
    "\n",
    "divisione = var_int / var_float\n",
    "print(divisione)\n",
    "\n",
    "potenza = 10 ** 3\n",
    "print(potenza)\n",
    "\n",
    "modulo = 10 % 3\n",
    "print(modulo)\n",
    "\n",
    "divisione_intera = 10 // 3\n",
    "print(divisione_intera)"
   ]
  },
  {
   "cell_type": "code",
   "execution_count": 6,
   "metadata": {},
   "outputs": [
    {
     "name": "stdout",
     "output_type": "stream",
     "text": [
      "Hello WorldHello WorldHello World\n",
      "Hello World 10\n",
      "H\n",
      "llo\n"
     ]
    }
   ],
   "source": [
    "#moltiplicazione_stringhe\n",
    "print(var_str*3)\n",
    "\n",
    "#concatenazione_stringhe\n",
    "print(var_str + \" \" + var_str2)\n",
    "\n",
    "#indice_stringhe\n",
    "print(var_str[0])\n",
    "\n",
    "print(var_str[2:5])"
   ]
  },
  {
   "cell_type": "code",
   "execution_count": 7,
   "metadata": {},
   "outputs": [
    {
     "name": "stdout",
     "output_type": "stream",
     "text": [
      "ciao, mi chiamo John e ho 36 anni\n",
      "1 2 3\n",
      "[1, '2', 3, 4, 5.0, 6]\n"
     ]
    }
   ],
   "source": [
    "print(\"ciao, mi chiamo \" + var_dict[\"name\"] + \" e ho \" + str(var_dict[\"age\"]) + \" anni\")\n",
    "\n",
    "print(str(var_list[0]) + \" \" + var_list[1] + \" \" + str(var_list[2]))\n",
    "\n",
    "# aggiungere elementi a una lista\n",
    "var_list.append(6)\n",
    "print(var_list)"
   ]
  },
  {
   "cell_type": "code",
   "execution_count": 8,
   "metadata": {},
   "outputs": [
    {
     "data": {
      "text/plain": [
       "'2'"
      ]
     },
     "execution_count": 8,
     "metadata": {},
     "output_type": "execute_result"
    }
   ],
   "source": [
    "var_list.pop(1) # rimuove l'elemento in posizione 1"
   ]
  },
  {
   "cell_type": "code",
   "execution_count": 9,
   "metadata": {},
   "outputs": [
    {
     "name": "stdout",
     "output_type": "stream",
     "text": [
      "[1, 3, 4, 5.0, 6]\n"
     ]
    }
   ],
   "source": [
    "print(var_list)"
   ]
  },
  {
   "cell_type": "code",
   "execution_count": 10,
   "metadata": {},
   "outputs": [
    {
     "name": "stdout",
     "output_type": "stream",
     "text": [
      "[1, 3, 4, 5.0]\n"
     ]
    }
   ],
   "source": [
    "var_list.remove(6) # rimuove l'elemento 6 (il primo che trova)\n",
    "print(var_list)"
   ]
  },
  {
   "cell_type": "code",
   "execution_count": 11,
   "metadata": {},
   "outputs": [
    {
     "name": "stdout",
     "output_type": "stream",
     "text": [
      "1\n",
      "[1, 3, 4, 5.0]\n"
     ]
    }
   ],
   "source": [
    "ind = var_list.index(3) # restituisce l'indice dell'elemento 3\n",
    "print(ind)\n",
    "print(var_list)"
   ]
  },
  {
   "cell_type": "code",
   "execution_count": 12,
   "metadata": {},
   "outputs": [
    {
     "ename": "ValueError",
     "evalue": "2 is not in list",
     "output_type": "error",
     "traceback": [
      "\u001b[1;31m---------------------------------------------------------------------------\u001b[0m",
      "\u001b[1;31mValueError\u001b[0m                                Traceback (most recent call last)",
      "\u001b[1;32mc:\\Users\\WilliamRussell\\github\\Course_ITS-BigData-1Anno_2023\\Python\\Ex_20231030.ipynb Cell 12\u001b[0m line \u001b[0;36m1\n\u001b[1;32m----> <a href='vscode-notebook-cell:/c%3A/Users/WilliamRussell/github/Course_ITS-BigData-1Anno_2023/Python/Ex_20231030.ipynb#X14sZmlsZQ%3D%3D?line=0'>1</a>\u001b[0m var_list\u001b[39m.\u001b[39;49mindex(\u001b[39m2\u001b[39;49m) \u001b[39m# restituisce l'indice dell'elemento 2 (se esiste)\u001b[39;00m\n",
      "\u001b[1;31mValueError\u001b[0m: 2 is not in list"
     ]
    }
   ],
   "source": [
    "var_list.index(2) # restituisce l'indice dell'elemento 2 (se esiste)"
   ]
  },
  {
   "cell_type": "code",
   "execution_count": 13,
   "metadata": {},
   "outputs": [
    {
     "name": "stdout",
     "output_type": "stream",
     "text": [
      "[5.0, 4, 3, 1]\n",
      "[1, 3, 4, 5.0]\n",
      "[1, 3, 4, 5.0, 1, 3, 4, 5.0]\n",
      "[5.0, 4, 3, 1, 5.0, 4, 3, 1]\n",
      "4\n"
     ]
    }
   ],
   "source": [
    "var_list.sort(reverse=True) # ordina la lista in ordine decrescente\n",
    "print(var_list)\n",
    "\n",
    "var_list.sort() # ordina la lista in ordine crescente\n",
    "print(var_list)\n",
    "\n",
    "var_list2 = var_list.copy() + var_list.copy() # copia la lista e la concatena con se stessa\n",
    "print(var_list2)\n",
    "\n",
    "var_list2.reverse() # inverte l'ordine degli elementi\n",
    "print(var_list2)\n",
    "\n",
    "var_list2.clear() # svuota la lista\n",
    "\n",
    "numero_elementi_lista = len(var_list) # restituisce il numero di elementi della lista\n",
    "print(numero_elementi_lista)\n"
   ]
  },
  {
   "cell_type": "code",
   "execution_count": 14,
   "metadata": {},
   "outputs": [
    {
     "name": "stdout",
     "output_type": "stream",
     "text": [
      "Hello Hello Hello you are turning 34 today\n"
     ]
    }
   ],
   "source": [
    "# Ex05\n",
    "\n",
    "hello = \"Hello \"\n",
    "age = 34\n",
    "\n",
    "print(hello*3 + \"you are turning \" + str(age) + \" today\")"
   ]
  },
  {
   "cell_type": "code",
   "execution_count": 15,
   "metadata": {},
   "outputs": [
    {
     "name": "stdout",
     "output_type": "stream",
     "text": [
      "1.083\n",
      "1.0833333333333333\n"
     ]
    }
   ],
   "source": [
    "# serie armonica\n",
    "serie_armonica = 1/2 + 1/3 + 1/4\n",
    "print(round(serie_armonica, 3))\n",
    "print(1/2 + 1/3 + 1/4)"
   ]
  },
  {
   "cell_type": "code",
   "execution_count": 16,
   "metadata": {},
   "outputs": [
    {
     "name": "stdout",
     "output_type": "stream",
     "text": [
      "7650000000000000000\n"
     ]
    }
   ],
   "source": [
    "# Einstein\n",
    "m= 85\n",
    "c= 3 * 10 ** 8\n",
    "Energy = m * c ** 2\n",
    "print(Energy)"
   ]
  },
  {
   "cell_type": "code",
   "execution_count": 17,
   "metadata": {},
   "outputs": [
    {
     "name": "stdout",
     "output_type": "stream",
     "text": [
      "66\n"
     ]
    }
   ],
   "source": [
    "valore_da_utente = input(\"Inserisci un valore: \") # input restituisce sempre una stringa\n",
    "print(valore_da_utente*2)"
   ]
  },
  {
   "cell_type": "code",
   "execution_count": 18,
   "metadata": {},
   "outputs": [
    {
     "name": "stdout",
     "output_type": "stream",
     "text": [
      "Ciao Will, la tua energia è 7.65e+18\n"
     ]
    }
   ],
   "source": [
    "# codice che richiede all'utente il suo nome e il suo peso \n",
    "# e restituisce la sua Energia con la formula di Einstein\n",
    "\n",
    "nome = input(\"Inserisci il tuo nome: \") # richiede all'utente il suo nome\n",
    "peso = float(input(\"Inserisci il tuo peso: \")) # richiede all'utente il suo peso e converte la stringa in float\n",
    "Energia = peso * c ** 2 # calcola l'energia\n",
    "print(\"Ciao \" + nome + \", la tua energia è \" + str(Energia)) # stampa il risultato"
   ]
  },
  {
   "cell_type": "code",
   "execution_count": 19,
   "metadata": {},
   "outputs": [
    {
     "name": "stdout",
     "output_type": "stream",
     "text": [
      "Ciao Will, il numero segreto era: 42. Hai indovinato? True\n"
     ]
    }
   ],
   "source": [
    "# gioco per indovinare un numero segreto (gioco semplice senza loop)\n",
    "\n",
    "nome = input(\"Ciao, come ti chiami? \") \n",
    "numero_segreto = 42 # numero segreto\n",
    "numero_utente = int(input(\"Indovina il numero segreto: \")) # chiede all'utente di inserire un numero e lo converte in int\n",
    "risultato = numero_utente == numero_segreto # confronta il numero inserito dall'utente con il numero segreto\n",
    "print(\"Ciao \" + nome + \", il numero segreto era: \" + str(numero_segreto) +\". Hai indovinato? \" + str(risultato)) # stampa il risultato"
   ]
  },
  {
   "cell_type": "code",
   "execution_count": 20,
   "metadata": {},
   "outputs": [
    {
     "name": "stdout",
     "output_type": "stream",
     "text": [
      "Ciao Will, il numero segreto era: 42\n",
      "Non hai indovinato!\n",
      "Riprova!\n"
     ]
    }
   ],
   "source": [
    "# gioco per indovinare un numero segreto (gioco semplice senza loop)\n",
    "\n",
    "nome = input(\"Ciao, come ti chiami? \") \n",
    "numero_segreto = 42 # numero segreto\n",
    "numero_utente = int(input(\"Indovina il numero segreto: \")) # chiede all'utente di inserire un numero e lo converte in int\n",
    "risultato = numero_utente == numero_segreto # confronta il numero inserito dall'utente con il numero segreto\n",
    "\n",
    "print(\"Ciao \" + nome + \", il numero segreto era: \" + str(numero_segreto))\n",
    "if risultato:\n",
    "    print(\"Hai indovinato!\")\n",
    "else:\n",
    "    print(\"Non hai indovinato!\")\n",
    "    print(\"Riprova!\") # NB il print è indentato di 4 spazi rispetto al if/else"
   ]
  }
 ],
 "metadata": {
  "kernelspec": {
   "display_name": "Python 3",
   "language": "python",
   "name": "python3"
  },
  "language_info": {
   "codemirror_mode": {
    "name": "ipython",
    "version": 3
   },
   "file_extension": ".py",
   "mimetype": "text/x-python",
   "name": "python",
   "nbconvert_exporter": "python",
   "pygments_lexer": "ipython3",
   "version": "3.12.0"
  }
 },
 "nbformat": 4,
 "nbformat_minor": 2
}
