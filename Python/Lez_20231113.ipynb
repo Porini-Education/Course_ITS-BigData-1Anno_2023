{
 "cells": [
  {
   "cell_type": "code",
   "execution_count": 2,
   "metadata": {},
   "outputs": [
    {
     "name": "stdout",
     "output_type": "stream",
     "text": [
      "5\n",
      "6\n",
      "7\n",
      "8\n",
      "9\n"
     ]
    }
   ],
   "source": [
    "for i in range(5,10):\n",
    "    print(i)"
   ]
  },
  {
   "cell_type": "code",
   "execution_count": 6,
   "metadata": {},
   "outputs": [
    {
     "name": "stdout",
     "output_type": "stream",
     "text": [
      "9\n",
      "8\n",
      "7\n",
      "6\n",
      "5\n"
     ]
    }
   ],
   "source": [
    "# andiamo indietro\n",
    "\n",
    "for i in range(10,5, -1):\n",
    "    print(i-1)"
   ]
  },
  {
   "cell_type": "code",
   "execution_count": 10,
   "metadata": {},
   "outputs": [
    {
     "name": "stdout",
     "output_type": "stream",
     "text": [
      "0\n",
      "7\n",
      "14\n",
      "21\n",
      "28\n",
      "35\n",
      "42\n",
      "49\n",
      "56\n",
      "63\n",
      "70\n",
      "77\n",
      "84\n",
      "91\n",
      "98\n",
      "105\n",
      "112\n",
      "119\n",
      "126\n",
      "133\n"
     ]
    }
   ],
   "source": [
    "# stampare i numeri pari\n",
    "for i in range(0,134):\n",
    "    if i%7 == 0:\n",
    "        print(i)"
   ]
  },
  {
   "cell_type": "code",
   "execution_count": 13,
   "metadata": {},
   "outputs": [
    {
     "name": "stdout",
     "output_type": "stream",
     "text": [
      "0\n",
      "1\n",
      "2\n",
      "3\n",
      "4\n",
      "5\n",
      "6\n",
      "7\n",
      "8\n",
      "9\n"
     ]
    }
   ],
   "source": [
    "# while \n",
    "i = 0\n",
    "while i < 10:\n",
    "    print(i)\n",
    "    i += 1"
   ]
  },
  {
   "cell_type": "code",
   "execution_count": 16,
   "metadata": {},
   "outputs": [
    {
     "data": {
      "text/plain": [
       "7"
      ]
     },
     "execution_count": 16,
     "metadata": {},
     "output_type": "execute_result"
    }
   ],
   "source": [
    "giorni_settimana = [\"Lunedì\",\"Martedì\",\"Mercoledì\",\"Giovedì\",\"Venerdì\",\"Sabato\",\"Domenica\"]\n",
    "len(giorni_settimana)"
   ]
  },
  {
   "cell_type": "code",
   "execution_count": 3,
   "metadata": {},
   "outputs": [
    {
     "name": "stdout",
     "output_type": "stream",
     "text": [
      "Lunedì\n",
      "Martedì\n",
      "Mercoledì\n",
      "Giovedì\n",
      "Venerdì\n",
      "Sabato\n",
      "Domenica\n",
      "\n",
      "Seconda versione\n",
      "\n",
      "Lunedì\n",
      "Martedì\n",
      "Mercoledì\n",
      "Giovedì\n",
      "Venerdì\n",
      "Sabato\n",
      "Domenica\n"
     ]
    }
   ],
   "source": [
    "var_stringa = \"oggi è lunedì e voi siete silenziosi\"\n",
    "\n",
    "# for l in var_stringa:\n",
    "    # print(l)\n",
    "\n",
    "giorni_settimana = [\"Lunedì\",\"Martedì\",\"Mercoledì\",\"Giovedì\",\"Venerdì\",\"Sabato\",\"Domenica\"]\n",
    "\n",
    "for i in range(0, len(giorni_settimana) ):\n",
    "    print(giorni_settimana[i])\n",
    "\n",
    "print(\"\\nSeconda versione\\n\")\n",
    "\n",
    "for giorno in giorni_settimana:\n",
    "    print(giorno)"
   ]
  },
  {
   "cell_type": "markdown",
   "metadata": {},
   "source": [
    "La mia prima funzione"
   ]
  },
  {
   "cell_type": "code",
   "execution_count": null,
   "metadata": {},
   "outputs": [],
   "source": [
    "def HelloWorld(n):\n",
    "    stringa = \"Hello World!\\n\"\n",
    "    return stringa*n\n",
    "\n",
    "print(HelloWorld(1))"
   ]
  },
  {
   "cell_type": "markdown",
   "metadata": {},
   "source": [
    "## Logica di riordinamento"
   ]
  },
  {
   "cell_type": "code",
   "execution_count": 7,
   "metadata": {},
   "outputs": [
    {
     "name": "stdout",
     "output_type": "stream",
     "text": [
      "[1, 2, 3, 4, 5, 9, 11, 13, 15, 17]\n",
      "90\n"
     ]
    }
   ],
   "source": [
    "# BUBBLE SORT\n",
    "\n",
    "mazzo = [5,11,3,15,13,17,2,4,9,1]       # n elementi\n",
    "contatore = 0\n",
    "\n",
    "for j in range(0,len(mazzo)):           # n operazioni\n",
    "    for i in range(0, len(mazzo)-1):    # n-1 operazioni\n",
    "        contatore += 1\n",
    "        if mazzo[i] > mazzo [i+1]:\n",
    "            mazzo[i], mazzo[i+1] = mazzo[i+1], mazzo[i]\n",
    "\n",
    "print(mazzo)\n",
    "print(contatore)                        # n*(n-1) operazioni"
   ]
  },
  {
   "cell_type": "code",
   "execution_count": 10,
   "metadata": {},
   "outputs": [
    {
     "name": "stdout",
     "output_type": "stream",
     "text": [
      "[1, 2, 3, 4, 5, 9, 11, 13, 15, 17] 10\n"
     ]
    }
   ],
   "source": [
    "mazzo = [5,11,3,15,13,17,2,4,9,1]\n",
    "lista = []\n",
    "contatore = 0\n",
    "\n",
    "for i in mazzo:             #n\n",
    "    contatore += 1 \n",
    "    lista = [y for y in lista if i > y] + [i] + [y for y in lista if i <= y]        #2n\n",
    "\n",
    "# list in line\n",
    "\n",
    "print(lista, contatore)"
   ]
  },
  {
   "cell_type": "markdown",
   "metadata": {},
   "source": [
    "ordinamento con il max: ha la stessa complessità"
   ]
  },
  {
   "cell_type": "code",
   "execution_count": 31,
   "metadata": {},
   "outputs": [
    {
     "name": "stdout",
     "output_type": "stream",
     "text": [
      "[5, 11, 3, 15, 13, 17, 2, 4, 9, 1, 8]\n",
      "[1, 2, 3, 4, 5, 8, 9, 11, 13, 15, 17]\n"
     ]
    }
   ],
   "source": [
    "# MERGE SORT\n",
    "# https://www.programiz.com/dsa/merge-sort\n",
    "# dividere il mazzo di carte in mazzetti\n",
    "# riordinare i mezzetti\n",
    "# unire i mazzetti nel nuovo mazzo ordinato\n",
    "# n*log(n)\n",
    "\n",
    "def mergeSort(array):\n",
    "    if len(array) > 1:\n",
    "        half_array = len(array) // 2\n",
    "        left_array = array[:half_array]\n",
    "        right_array = array[half_array:]\n",
    "\n",
    "        mergeSort(left_array)\n",
    "        mergeSort(right_array)\n",
    "\n",
    "        i = j = k = 0\n",
    "\n",
    "        while i < len(left_array) and j < len(right_array):\n",
    "            if left_array[i] < right_array[j]:\n",
    "                array[k] = left_array[i]\n",
    "                i += 1\n",
    "            else:\n",
    "                array[k] = right_array[j]\n",
    "                j += 1\n",
    "            k += 1\n",
    "\n",
    "        while i < len(left_array):\n",
    "            array[k] = left_array[i]\n",
    "            i += 1\n",
    "            k += 1\n",
    "\n",
    "        while j < len(right_array):\n",
    "            array[k] = right_array[j]\n",
    "            j += 1\n",
    "            k += 1\n",
    "    \n",
    "mazzo = [5,11,3,15,13,17,2,4,9,1,8]\n",
    "mazzo_ordinato = mazzo.copy()\n",
    "mergeSort(mazzo_ordinato)\n",
    "\n",
    "print(mazzo)\n",
    "print(mazzo_ordinato)"
   ]
  },
  {
   "cell_type": "markdown",
   "metadata": {},
   "source": [
    "## GitHub Copilot version"
   ]
  },
  {
   "cell_type": "code",
   "execution_count": null,
   "metadata": {},
   "outputs": [],
   "source": [
    "# SELECTION SORT\n",
    "# https://www.programiz.com/dsa/selection-sort\n",
    "# n^2\n",
    "\n",
    "def selectionSort(array):\n",
    "    for i in range(len(array)):\n",
    "        min_index = i\n",
    "        for j in range(i+1, len(array)):\n",
    "            if array[min_index] > array[j]:\n",
    "                min_index = j\n",
    "        array[i], array[min_index] = array[min_index], array[i]\n",
    "        "
   ]
  },
  {
   "cell_type": "markdown",
   "metadata": {},
   "source": [
    "### pseudo-codice\n",
    "\n",
    "ho un mazzo\n",
    "\n",
    "\n",
    "- faccio un ciclo lungo tutto il mazzo\n",
    "  - faccio un ciclo for annidato lungo tutto il mazzo\n",
    "    - posizione 1 del mazzo è superiore rispetto alla successiva?\n",
    "      - se Sì scambio\n",
    "      - se no niente\n"
   ]
  },
  {
   "cell_type": "code",
   "execution_count": 35,
   "metadata": {},
   "outputs": [
    {
     "name": "stdout",
     "output_type": "stream",
     "text": [
      "Ritenta\n",
      "Ritenta\n",
      "Ritenta\n",
      "Questi sono stati i tuoi tentativi [5, 5, 5]\n"
     ]
    }
   ],
   "source": [
    "# indovina il numero, memorizza i tentativi\n",
    "\n",
    "guess = 25\n",
    "tentativi_max = 3\n",
    "\n",
    "array = []\n",
    "\n",
    "for t in range(tentativi_max):\n",
    "    numero_utente = int(input(\"Dimmi un numero tra 20 e 30: \"))\n",
    "    array.append(numero_utente)\n",
    "    if numero_utente == guess:\n",
    "        print(\"Win\")\n",
    "        break\n",
    "    else:\n",
    "        print(\"Ritenta\")\n",
    "\n",
    "print(\"Questi sono stati i tuoi tentativi\", array)"
   ]
  }
 ],
 "metadata": {
  "kernelspec": {
   "display_name": "base",
   "language": "python",
   "name": "python3"
  },
  "language_info": {
   "codemirror_mode": {
    "name": "ipython",
    "version": 3
   },
   "file_extension": ".py",
   "mimetype": "text/x-python",
   "name": "python",
   "nbconvert_exporter": "python",
   "pygments_lexer": "ipython3",
   "version": "3.9.13"
  }
 },
 "nbformat": 4,
 "nbformat_minor": 2
}
