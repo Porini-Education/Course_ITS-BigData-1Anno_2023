{
 "cells": [
  {
   "cell_type": "code",
   "execution_count": 3,
   "metadata": {},
   "outputs": [
    {
     "name": "stdout",
     "output_type": "stream",
     "text": [
      "La mia condizione è vera\n"
     ]
    }
   ],
   "source": [
    "mia_condizione = True\n",
    "\n",
    "if mia_condizione:\n",
    "    print(\"La mia condizione è vera\")"
   ]
  },
  {
   "cell_type": "code",
   "execution_count": 6,
   "metadata": {},
   "outputs": [],
   "source": [
    "mia_condizione = \"\"\n",
    "# una stringa vuota è considerata False\n",
    "if mia_condizione != \"\":\n",
    "    print(\"La mia condizione è vera\")"
   ]
  },
  {
   "cell_type": "code",
   "execution_count": 9,
   "metadata": {},
   "outputs": [
    {
     "name": "stdout",
     "output_type": "stream",
     "text": [
      "La mia condizione è vera\n"
     ]
    }
   ],
   "source": [
    "mia_condizione_int = 0.887658\n",
    "# int e float sono equivalenti a True solo quando sono diversi da 0\n",
    "if mia_condizione_int:\n",
    "    print(\"La mia condizione è vera\")"
   ]
  },
  {
   "cell_type": "code",
   "execution_count": 12,
   "metadata": {},
   "outputs": [
    {
     "name": "stdout",
     "output_type": "stream",
     "text": [
      "1\n",
      "2\n",
      "3\n",
      "4\n"
     ]
    }
   ],
   "source": [
    "lista = [1, 2, 3, 4, 5, 6, 7, 8, 9]\n",
    "\n",
    "count = 0\n",
    "for elemento in lista:\n",
    "    if (count >= 4):\n",
    "        break\n",
    "    \n",
    "    count += 1\n",
    "    print(elemento)"
   ]
  },
  {
   "cell_type": "code",
   "execution_count": 16,
   "metadata": {},
   "outputs": [
    {
     "name": "stdout",
     "output_type": "stream",
     "text": [
      "1 1 1\n",
      "2 2 2\n",
      "3 3 3\n",
      "4 4 4\n",
      "5 5 5\n",
      "6 6 6\n"
     ]
    },
    {
     "ename": "IndexError",
     "evalue": "list index out of range",
     "output_type": "error",
     "traceback": [
      "\u001b[1;31m---------------------------------------------------------------------------\u001b[0m",
      "\u001b[1;31mIndexError\u001b[0m                                Traceback (most recent call last)",
      "\u001b[1;32mUntitled-1.ipynb Cell 5\u001b[0m line \u001b[0;36m8\n\u001b[0;32m      <a href='vscode-notebook-cell:Untitled-1.ipynb?jupyter-notebook#W4sdW50aXRsZWQ%3D?line=5'>6</a>\u001b[0m \u001b[39m# versione con errori\u001b[39;00m\n\u001b[0;32m      <a href='vscode-notebook-cell:Untitled-1.ipynb?jupyter-notebook#W4sdW50aXRsZWQ%3D?line=6'>7</a>\u001b[0m \u001b[39mfor\u001b[39;00m i \u001b[39min\u001b[39;00m \u001b[39mrange\u001b[39m(\u001b[39mlen\u001b[39m(lista)):\n\u001b[1;32m----> <a href='vscode-notebook-cell:Untitled-1.ipynb?jupyter-notebook#W4sdW50aXRsZWQ%3D?line=7'>8</a>\u001b[0m     \u001b[39mprint\u001b[39m(lista[i], lista2[i], lista3[i])\n",
      "\u001b[1;31mIndexError\u001b[0m: list index out of range"
     ]
    }
   ],
   "source": [
    "# liste di lunghezze diverse\n",
    "lista = [1, 2, 3, 4, 5, 6, 7, 8, 9]\n",
    "lista2 = [1, 2, 3, 4, 5, 6, 7, 8, 9, 10]\n",
    "lista3 = [1, 2, 3, 4, 5, 6]\n",
    "\n",
    "# versione con errori\n",
    "for i in range(len(lista)):\n",
    "    print(lista[i], lista2[i], lista3[i])"
   ]
  },
  {
   "cell_type": "code",
   "execution_count": 17,
   "metadata": {},
   "outputs": [
    {
     "name": "stdout",
     "output_type": "stream",
     "text": [
      "1 1 1\n",
      "2 2 2\n",
      "3 3 3\n",
      "4 4 4\n",
      "5 5 5\n",
      "6 6 6\n"
     ]
    }
   ],
   "source": [
    "# versione corretta con zip()\n",
    "for elemento, elemento1, elemento2 in zip(lista, lista2, lista3):\n",
    "    print(elemento, elemento1, elemento2)"
   ]
  },
  {
   "cell_type": "code",
   "execution_count": 18,
   "metadata": {},
   "outputs": [
    {
     "name": "stdout",
     "output_type": "stream",
     "text": [
      "1\n",
      "1\n",
      "1\n",
      "2\n",
      "2\n",
      "2\n",
      "3\n",
      "3\n",
      "3\n",
      "4\n",
      "4\n",
      "4\n",
      "5\n",
      "5\n",
      "5\n",
      "6\n",
      "6\n",
      "6\n",
      "7\n",
      "7\n",
      "8\n",
      "8\n",
      "9\n",
      "9\n",
      "10\n"
     ]
    }
   ],
   "source": [
    "lunghezza_massima = max(len(lista), len(lista2), len(lista3))\n",
    "for i in range(lunghezza_massima):\n",
    "    if i < len(lista):\n",
    "        print(lista[i])\n",
    "    \n",
    "    if i < len(lista2):\n",
    "        print(lista2[i])\n",
    "    \n",
    "    if i < len(lista3):\n",
    "        print(lista3[i])"
   ]
  },
  {
   "cell_type": "code",
   "execution_count": 19,
   "metadata": {},
   "outputs": [
    {
     "name": "stdout",
     "output_type": "stream",
     "text": [
      "10\n",
      "9\n",
      "9\n",
      "8\n",
      "8\n",
      "7\n",
      "7\n",
      "6\n",
      "6\n",
      "6\n",
      "5\n",
      "5\n",
      "5\n",
      "4\n",
      "4\n",
      "4\n",
      "3\n",
      "3\n",
      "3\n",
      "2\n",
      "2\n",
      "2\n"
     ]
    }
   ],
   "source": [
    "lunghezza_massima = max(len(lista), len(lista2), len(lista3))\n",
    "for i in range(lunghezza_massima, 0, -1):\n",
    "    if i < len(lista):\n",
    "        print(lista[i])\n",
    "    \n",
    "    if i < len(lista2):\n",
    "        print(lista2[i])\n",
    "    \n",
    "    if i < len(lista3):\n",
    "        print(lista3[i])"
   ]
  },
  {
   "cell_type": "markdown",
   "metadata": {},
   "source": [
    "# Librerie\n",
    "\n",
    "## uso della libreria `random`\n",
    "\n",
    "```python\n",
    "import random\n",
    "\n",
    "from random import randint\n",
    "```\n"
   ]
  },
  {
   "cell_type": "code",
   "execution_count": 21,
   "metadata": {},
   "outputs": [],
   "source": [
    "from random import randint"
   ]
  },
  {
   "cell_type": "code",
   "execution_count": 37,
   "metadata": {},
   "outputs": [
    {
     "name": "stdout",
     "output_type": "stream",
     "text": [
      "2\n"
     ]
    }
   ],
   "source": [
    "print(randint(0, 10))"
   ]
  },
  {
   "cell_type": "code",
   "execution_count": 52,
   "metadata": {},
   "outputs": [],
   "source": [
    "# dictionary\n",
    "\n",
    "var_dict = {\n",
    "    \"chiave\": \"valore\",\n",
    "    \"int\": 1,\n",
    "    \"float\": 0.5\n",
    "}\n",
    "var_dict[\"int\"] = 2\n",
    "var_dict[\"int\"]\n",
    "\n",
    "var_dict[\"nuovo\"] = \"nuovo valore\"\n",
    "\n",
    "var_dict[\"nuovo\"]\n",
    "\n",
    "lista_di_dizionari = [var_dict, var_dict, var_dict]"
   ]
  },
  {
   "cell_type": "code",
   "execution_count": 53,
   "metadata": {},
   "outputs": [
    {
     "data": {
      "text/plain": [
       "{'chiave': 'valore', 'int': 2, 'float': 0.5, 'nuovo': 'nuovo valore'}"
      ]
     },
     "execution_count": 53,
     "metadata": {},
     "output_type": "execute_result"
    }
   ],
   "source": [
    "var_dict"
   ]
  },
  {
   "cell_type": "code",
   "execution_count": 54,
   "metadata": {},
   "outputs": [
    {
     "data": {
      "text/plain": [
       "[{'chiave': 'valore', 'int': 2, 'float': 0.5, 'nuovo': 'nuovo valore'},\n",
       " {'chiave': 'valore', 'int': 2, 'float': 0.5, 'nuovo': 'nuovo valore'},\n",
       " {'chiave': 'valore', 'int': 2, 'float': 0.5, 'nuovo': 'nuovo valore'}]"
      ]
     },
     "execution_count": 54,
     "metadata": {},
     "output_type": "execute_result"
    }
   ],
   "source": [
    "lista_di_dizionari"
   ]
  },
  {
   "cell_type": "code",
   "execution_count": 47,
   "metadata": {},
   "outputs": [
    {
     "name": "stdout",
     "output_type": "stream",
     "text": [
      "nuovo valore\n",
      "nuovo valore\n",
      "nuovo valore\n"
     ]
    }
   ],
   "source": [
    "for dict in lista_di_dizionari:\n",
    "    print(dict[\"nuovo\"])"
   ]
  },
  {
   "cell_type": "code",
   "execution_count": 55,
   "metadata": {},
   "outputs": [
    {
     "name": "stdout",
     "output_type": "stream",
     "text": [
      "{}\n",
      "[{}, {'chiave': 'valore', 'int': 2, 'float': 0.5, 'nuovo': 'nuovo valore'}, {}]\n"
     ]
    }
   ],
   "source": [
    "var_dict_copy = var_dict.copy()\n",
    "var_dict_duplicato = var_dict\n",
    "lista_di_dizionari = [var_dict, var_dict_copy, var_dict_duplicato]\n",
    "\n",
    "# svuoto solo il dizionario originale\n",
    "var_dict.clear()\n",
    "print(var_dict)\n",
    "print(lista_di_dizionari)"
   ]
  },
  {
   "cell_type": "markdown",
   "metadata": {},
   "source": [
    "# Funzioni"
   ]
  },
  {
   "cell_type": "code",
   "execution_count": 57,
   "metadata": {},
   "outputs": [
    {
     "name": "stdout",
     "output_type": "stream",
     "text": [
      "Ciao\n"
     ]
    }
   ],
   "source": [
    "def mia_funzione():\n",
    "    print(\"Ciao\")\n",
    "\n",
    "# chiamata della funzione\n",
    "mia_funzione()"
   ]
  },
  {
   "cell_type": "code",
   "execution_count": null,
   "metadata": {},
   "outputs": [],
   "source": [
    "#sintassi:\n",
    "#def nome_funzione(parametri):\n",
    "\n",
    "#attenzione sempre all'indentazione e i \":\" alla fine della riga"
   ]
  },
  {
   "cell_type": "code",
   "execution_count": 58,
   "metadata": {},
   "outputs": [],
   "source": [
    "def somma(a, b):\n",
    "    c = a + b\n",
    "    return c\n",
    "# oppure: return a + b"
   ]
  },
  {
   "cell_type": "code",
   "execution_count": 59,
   "metadata": {},
   "outputs": [],
   "source": [
    "def is_even(number):\n",
    "    return number % 2 == 0"
   ]
  },
  {
   "cell_type": "code",
   "execution_count": 60,
   "metadata": {},
   "outputs": [],
   "source": [
    "def somma_e_pari(a, b):\n",
    "    risultato = somma(a, b)\n",
    "    return is_even(risultato)"
   ]
  },
  {
   "cell_type": "code",
   "execution_count": 61,
   "metadata": {},
   "outputs": [
    {
     "name": "stdout",
     "output_type": "stream",
     "text": [
      "7 9 16 True\n",
      "4 10 14 True\n",
      "2 6 8 True\n",
      "0 2 2 True\n",
      "5 9 14 True\n",
      "2 9 11 False\n",
      "10 1 11 False\n",
      "5 7 12 True\n",
      "5 1 6 True\n",
      "1 1 2 True\n"
     ]
    }
   ],
   "source": [
    "from random import randint\n",
    "\n",
    "for i in range(10):\n",
    "    a = randint(0, 10)\n",
    "    b = randint(0, 10)\n",
    "    print(a, b, somma(a,b), somma_e_pari(a, b))"
   ]
  },
  {
   "cell_type": "markdown",
   "metadata": {},
   "source": [
    "### Esercizio\n",
    "\n",
    "Scrivere funzioni per:\n",
    "\n",
    "1. chiedere all'utente quante volte controllare l'orario\n",
    "2. controllare l'orario\n",
    "3. controllare l'orario dopo una quantità casuale di secondi\n",
    "4. dirmi se i secondi (nell'orario) sono pari o dispari\n",
    "5. ripetere n volte"
   ]
  },
  {
   "cell_type": "code",
   "execution_count": 68,
   "metadata": {},
   "outputs": [],
   "source": [
    "import random\n",
    "import datetime\n",
    "import time"
   ]
  },
  {
   "cell_type": "code",
   "execution_count": 69,
   "metadata": {},
   "outputs": [],
   "source": [
    "#1 \n",
    "def richiedi_numero():\n",
    "    input_val = input(\"Quante volte vuoi controllare l'orario? \")    \n",
    "    return int(input_val)\n",
    "        "
   ]
  },
  {
   "cell_type": "code",
   "execution_count": 70,
   "metadata": {},
   "outputs": [],
   "source": [
    "#2\n",
    "def get_time():\n",
    "    now = datetime.datetime.now()\n",
    "    print(\"Sono le \" + now.strftime('%H:%M:%S'))\n",
    "    return now"
   ]
  },
  {
   "cell_type": "code",
   "execution_count": 90,
   "metadata": {},
   "outputs": [],
   "source": [
    "#3\n",
    "def get_time_after_interval():\n",
    "    delay = random.randint(1,5)\n",
    "    print(\"Aspetto \" + str(delay) + \" secondi\")\n",
    "    time.sleep(delay)\n",
    "    now = get_time()\n",
    "    return now"
   ]
  },
  {
   "cell_type": "code",
   "execution_count": 91,
   "metadata": {},
   "outputs": [],
   "source": [
    "#4\n",
    "def is_seconds_even(time):\n",
    "    return time.second % 2 == 0"
   ]
  },
  {
   "cell_type": "code",
   "execution_count": 94,
   "metadata": {},
   "outputs": [],
   "source": [
    "#5\n",
    "def check_time(n):\n",
    "    for i in range(n):\n",
    "        now = get_time_after_interval()\n",
    "        if (is_seconds_even(now)):\n",
    "            print(\"I secondi sono pari.\")\n",
    "        else:\n",
    "            print(\"I secondi sono dispari\")\n",
    "        "
   ]
  },
  {
   "cell_type": "code",
   "execution_count": 95,
   "metadata": {},
   "outputs": [
    {
     "name": "stdout",
     "output_type": "stream",
     "text": [
      "Aspetto 2 secondi\n",
      "Sono le 12:50:27\n",
      "I secondi sono dispari\n",
      "Aspetto 4 secondi\n",
      "Sono le 12:52:10\n",
      "I secondi sono pari.\n",
      "Aspetto 4 secondi\n",
      "Sono le 12:52:16\n",
      "I secondi sono pari.\n",
      "Aspetto 4 secondi\n",
      "Sono le 12:52:23\n",
      "I secondi sono dispari\n",
      "Aspetto 4 secondi\n",
      "Sono le 12:52:31\n",
      "I secondi sono dispari\n"
     ]
    }
   ],
   "source": [
    "n = richiedi_numero()\n",
    "check_time(n)"
   ]
  },
  {
   "cell_type": "markdown",
   "metadata": {},
   "source": [
    "### Best practices (standards)\n",
    "\n",
    "- varibili, funzioni devono avere nomi senza maiuscole - es. richiedi_numero, non Richiedi_Numero\n",
    "- usare \"_\" per dividere le parole nelle variabili o funzioni  - es. richiedi_numero, non richiedinumero\n",
    "- eccezioni: \n",
    "    - classi - es. \"MiaClasse\"\n",
    "    - funzioni \"protette\" cominciano con un \"_\" - es. \"_mio_metodo_protetto\"\n",
    "    - costanti (sono variabili, ma non cambiano mai durante l'esecuzione) - es. MIA_COSTANTE = 5"
   ]
  },
  {
   "cell_type": "markdown",
   "metadata": {},
   "source": [
    "## Classi"
   ]
  },
  {
   "cell_type": "code",
   "execution_count": 100,
   "metadata": {},
   "outputs": [],
   "source": [
    "class Rect():\n",
    "    def __init__(self, x:float, y:float):\n",
    "        self.x = x\n",
    "        self.y = y\n",
    "\n",
    "    def get_area(self):\n",
    "        return self.x * self.y\n",
    "    \n",
    "    def get_perimeter(self):\n",
    "        return 2*(self.x+self.y)\n",
    "    \n",
    "    def is_square(self):\n",
    "        return self.x == self.y\n",
    "    \n",
    "    def scale(self, scale:float):\n",
    "        self.x = self.x * scale\n",
    "        self.y = self.y * scale"
   ]
  },
  {
   "cell_type": "code",
   "execution_count": 98,
   "metadata": {},
   "outputs": [
    {
     "data": {
      "text/plain": [
       "20"
      ]
     },
     "execution_count": 98,
     "metadata": {},
     "output_type": "execute_result"
    }
   ],
   "source": [
    "rect = Rect(5, 4)\n",
    "rect.get_area()"
   ]
  },
  {
   "cell_type": "code",
   "execution_count": 101,
   "metadata": {},
   "outputs": [
    {
     "name": "stdout",
     "output_type": "stream",
     "text": [
      "20\n",
      "180\n"
     ]
    }
   ],
   "source": [
    "rect = Rect(5, 4)\n",
    "print(rect.get_area())\n",
    "\n",
    "rect.scale(3)\n",
    "print(rect.get_area())"
   ]
  },
  {
   "cell_type": "markdown",
   "metadata": {},
   "source": [
    "### Esercizio\n",
    "\n",
    "Creare una classe GymDiary\n",
    "con altezza, peso, bmi (peso/altezza^2)\n",
    "una bmi tra 18 e 25 è considerata \"sana\" - calcolare la differenza tra peso e peso \"consigliato\"\n",
    "funzione per valutare se la bmi è \"sana\""
   ]
  },
  {
   "cell_type": "code",
   "execution_count": 102,
   "metadata": {},
   "outputs": [],
   "source": [
    "class GymDiary():\n",
    "    def __init__(self, height:float, weight:float):\n",
    "        self.height = height\n",
    "        self.weight = weight\n",
    "        self.BMI = weight/(height**2)\n",
    "\n",
    "    def is_healthy(self):\n",
    "        # if self.BMI >= 18:\n",
    "        #     return True\n",
    "        # elif self.BMI <= 25:\n",
    "        #     return True\n",
    "        # else:\n",
    "        #     return False\n",
    "        \n",
    "        return self.BMI >= 18 and self.BMI <= 25\n",
    "    \n",
    "        #alternativa:\n",
    "        return 18 <= self.BMI <= 25 # non verrà eseguita perché c'è la riga con \"return\" sopra\n",
    "    \n",
    "    def delta_weight(self):\n",
    "        if self.is_healthy():\n",
    "            return 0\n",
    "        \n",
    "        if self.BMI < 18:\n",
    "            #peso = bmi * altezza^2\n",
    "            return (18 * (self.height**2)) - self.weight\n",
    "        \n",
    "        if self.BMI > 25:\n",
    "            #peso = bmi * altezza^2\n",
    "            return (25 * (self.height**2)) - self.weight"
   ]
  },
  {
   "cell_type": "code",
   "execution_count": 103,
   "metadata": {},
   "outputs": [
    {
     "name": "stdout",
     "output_type": "stream",
     "text": [
      "23.148148148148145\n",
      "True\n",
      "0\n"
     ]
    }
   ],
   "source": [
    "gd = GymDiary(1.80, 75)\n",
    "print(gd.BMI)\n",
    "print(gd.is_healthy())\n",
    "print(gd.delta_weight())"
   ]
  },
  {
   "cell_type": "code",
   "execution_count": 2,
   "metadata": {},
   "outputs": [],
   "source": [
    "# Recursion\n",
    "\n",
    "#es. fattoriale:\n",
    "# 5! = 5*4*3*2*1\n",
    "\n",
    "def factorial_for_loop(n):\n",
    "    risultato = 1\n",
    "    for i in range(1, n+1):\n",
    "        risultato = risultato * i\n",
    "\n",
    "    return risultato\n",
    "\n",
    "def factorial_recursive(n):\n",
    "    if n > 1:\n",
    "        return n*factorial_recursive(n-1)\n",
    "    else:\n",
    "        return 1"
   ]
  },
  {
   "cell_type": "code",
   "execution_count": 3,
   "metadata": {},
   "outputs": [
    {
     "name": "stdout",
     "output_type": "stream",
     "text": [
      "120\n"
     ]
    }
   ],
   "source": [
    "print(factorial_for_loop(5))"
   ]
  },
  {
   "cell_type": "code",
   "execution_count": 4,
   "metadata": {},
   "outputs": [
    {
     "name": "stdout",
     "output_type": "stream",
     "text": [
      "120\n"
     ]
    }
   ],
   "source": [
    "\n",
    "print(factorial_recursive(5))"
   ]
  },
  {
   "cell_type": "code",
   "execution_count": 7,
   "metadata": {},
   "outputs": [
    {
     "name": "stdout",
     "output_type": "stream",
     "text": [
      "non era un numero.\n",
      "completato\n"
     ]
    }
   ],
   "source": [
    "# Exception handling (gestione degli errori)\n",
    "\n",
    "#try/except\n",
    "\n",
    "try: \n",
    "    num = int(input(\"dammi un numero: \"))\n",
    "    print(num + 234)\n",
    "except:\n",
    "    print(\"non era un numero.\")\n",
    "\n",
    "print(\"completato\")"
   ]
  },
  {
   "cell_type": "markdown",
   "metadata": {},
   "source": [
    "Numpy"
   ]
  },
  {
   "cell_type": "code",
   "execution_count": 8,
   "metadata": {},
   "outputs": [
    {
     "name": "stdout",
     "output_type": "stream",
     "text": [
      "Collecting numpy\n",
      "  Obtaining dependency information for numpy from https://files.pythonhosted.org/packages/28/75/3b679b41713bb60e2e8f6e2f87be72c971c9e718b1c17b8f8749240ddca8/numpy-1.26.2-cp312-cp312-win_amd64.whl.metadata\n",
      "  Downloading numpy-1.26.2-cp312-cp312-win_amd64.whl.metadata (61 kB)\n",
      "     ---------------------------------------- 0.0/61.2 kB ? eta -:--:--\n",
      "     ------ --------------------------------- 10.2/61.2 kB ? eta -:--:--\n",
      "     ------------ ------------------------- 20.5/61.2 kB 131.3 kB/s eta 0:00:01\n",
      "     ------------ ------------------------- 20.5/61.2 kB 131.3 kB/s eta 0:00:01\n",
      "     ------------------------------- ------ 51.2/61.2 kB 238.1 kB/s eta 0:00:01\n",
      "     -------------------------------------- 61.2/61.2 kB 271.1 kB/s eta 0:00:00\n",
      "Downloading numpy-1.26.2-cp312-cp312-win_amd64.whl (15.5 MB)\n",
      "   ---------------------------------------- 0.0/15.5 MB ? eta -:--:--\n",
      "   ---------------------------------------- 0.1/15.5 MB 2.4 MB/s eta 0:00:07\n",
      "    --------------------------------------- 0.3/15.5 MB 4.1 MB/s eta 0:00:04\n",
      "   - -------------------------------------- 0.7/15.5 MB 4.6 MB/s eta 0:00:04\n",
      "   -- ------------------------------------- 1.0/15.5 MB 5.1 MB/s eta 0:00:03\n",
      "   --- ------------------------------------ 1.2/15.5 MB 5.5 MB/s eta 0:00:03\n",
      "   --- ------------------------------------ 1.4/15.5 MB 5.0 MB/s eta 0:00:03\n",
      "   ---- ----------------------------------- 1.7/15.5 MB 5.1 MB/s eta 0:00:03\n",
      "   ----- ---------------------------------- 2.0/15.5 MB 5.2 MB/s eta 0:00:03\n",
      "   ----- ---------------------------------- 2.1/15.5 MB 5.2 MB/s eta 0:00:03\n",
      "   ----- ---------------------------------- 2.3/15.5 MB 5.0 MB/s eta 0:00:03\n",
      "   ------ --------------------------------- 2.4/15.5 MB 4.7 MB/s eta 0:00:03\n",
      "   ------ --------------------------------- 2.6/15.5 MB 4.7 MB/s eta 0:00:03\n",
      "   ------- -------------------------------- 2.8/15.5 MB 4.5 MB/s eta 0:00:03\n",
      "   ------- -------------------------------- 2.9/15.5 MB 4.5 MB/s eta 0:00:03\n",
      "   ------- -------------------------------- 3.1/15.5 MB 4.4 MB/s eta 0:00:03\n",
      "   -------- ------------------------------- 3.2/15.5 MB 4.3 MB/s eta 0:00:03\n",
      "   -------- ------------------------------- 3.4/15.5 MB 4.3 MB/s eta 0:00:03\n",
      "   -------- ------------------------------- 3.5/15.5 MB 4.3 MB/s eta 0:00:03\n",
      "   --------- ------------------------------ 3.6/15.5 MB 4.1 MB/s eta 0:00:03\n",
      "   --------- ------------------------------ 3.7/15.5 MB 4.0 MB/s eta 0:00:03\n",
      "   --------- ------------------------------ 3.9/15.5 MB 4.0 MB/s eta 0:00:03\n",
      "   ---------- ----------------------------- 4.0/15.5 MB 4.0 MB/s eta 0:00:03\n",
      "   ---------- ----------------------------- 4.2/15.5 MB 4.0 MB/s eta 0:00:03\n",
      "   ----------- ---------------------------- 4.5/15.5 MB 4.0 MB/s eta 0:00:03\n",
      "   ----------- ---------------------------- 4.6/15.5 MB 3.9 MB/s eta 0:00:03\n",
      "   ------------ --------------------------- 4.7/15.5 MB 4.0 MB/s eta 0:00:03\n",
      "   ------------ --------------------------- 4.9/15.5 MB 3.9 MB/s eta 0:00:03\n",
      "   ------------- -------------------------- 5.1/15.5 MB 3.9 MB/s eta 0:00:03\n",
      "   ------------- -------------------------- 5.2/15.5 MB 3.9 MB/s eta 0:00:03\n",
      "   ------------- -------------------------- 5.4/15.5 MB 3.9 MB/s eta 0:00:03\n",
      "   -------------- ------------------------- 5.6/15.5 MB 3.9 MB/s eta 0:00:03\n",
      "   --------------- ------------------------ 5.9/15.5 MB 3.9 MB/s eta 0:00:03\n",
      "   --------------- ------------------------ 6.1/15.5 MB 4.0 MB/s eta 0:00:03\n",
      "   ---------------- ----------------------- 6.3/15.5 MB 4.0 MB/s eta 0:00:03\n",
      "   ---------------- ----------------------- 6.6/15.5 MB 4.0 MB/s eta 0:00:03\n",
      "   ----------------- ---------------------- 6.8/15.5 MB 4.0 MB/s eta 0:00:03\n",
      "   ----------------- ---------------------- 7.0/15.5 MB 4.0 MB/s eta 0:00:03\n",
      "   ------------------ --------------------- 7.2/15.5 MB 4.1 MB/s eta 0:00:03\n",
      "   ------------------- -------------------- 7.4/15.5 MB 4.1 MB/s eta 0:00:02\n",
      "   ------------------- -------------------- 7.6/15.5 MB 4.1 MB/s eta 0:00:02\n",
      "   -------------------- ------------------- 7.9/15.5 MB 4.1 MB/s eta 0:00:02\n",
      "   --------------------- ------------------ 8.2/15.5 MB 4.2 MB/s eta 0:00:02\n",
      "   --------------------- ------------------ 8.4/15.5 MB 4.2 MB/s eta 0:00:02\n",
      "   ---------------------- ----------------- 8.6/15.5 MB 4.2 MB/s eta 0:00:02\n",
      "   ---------------------- ----------------- 8.8/15.5 MB 4.2 MB/s eta 0:00:02\n",
      "   ----------------------- ---------------- 9.1/15.5 MB 4.2 MB/s eta 0:00:02\n",
      "   ------------------------ --------------- 9.3/15.5 MB 4.2 MB/s eta 0:00:02\n",
      "   ------------------------ --------------- 9.5/15.5 MB 4.2 MB/s eta 0:00:02\n",
      "   ------------------------ --------------- 9.6/15.5 MB 4.2 MB/s eta 0:00:02\n",
      "   ------------------------- -------------- 9.9/15.5 MB 4.2 MB/s eta 0:00:02\n",
      "   -------------------------- ------------- 10.1/15.5 MB 4.3 MB/s eta 0:00:02\n",
      "   -------------------------- ------------- 10.3/15.5 MB 4.3 MB/s eta 0:00:02\n",
      "   -------------------------- ------------- 10.4/15.5 MB 4.3 MB/s eta 0:00:02\n",
      "   --------------------------- ------------ 10.6/15.5 MB 4.2 MB/s eta 0:00:02\n",
      "   --------------------------- ------------ 10.8/15.5 MB 4.2 MB/s eta 0:00:02\n",
      "   ---------------------------- ----------- 11.0/15.5 MB 4.2 MB/s eta 0:00:02\n",
      "   ----------------------------- ---------- 11.3/15.5 MB 4.1 MB/s eta 0:00:02\n",
      "   ----------------------------- ---------- 11.5/15.5 MB 4.2 MB/s eta 0:00:01\n",
      "   ------------------------------ --------- 11.7/15.5 MB 4.2 MB/s eta 0:00:01\n",
      "   ------------------------------ --------- 12.0/15.5 MB 4.2 MB/s eta 0:00:01\n",
      "   ------------------------------- -------- 12.2/15.5 MB 4.2 MB/s eta 0:00:01\n",
      "   -------------------------------- ------- 12.4/15.5 MB 4.2 MB/s eta 0:00:01\n",
      "   -------------------------------- ------- 12.7/15.5 MB 4.3 MB/s eta 0:00:01\n",
      "   --------------------------------- ------ 13.0/15.5 MB 4.3 MB/s eta 0:00:01\n",
      "   --------------------------------- ------ 13.1/15.5 MB 4.3 MB/s eta 0:00:01\n",
      "   ---------------------------------- ----- 13.3/15.5 MB 4.3 MB/s eta 0:00:01\n",
      "   ---------------------------------- ----- 13.5/15.5 MB 4.4 MB/s eta 0:00:01\n",
      "   ----------------------------------- ---- 13.8/15.5 MB 4.5 MB/s eta 0:00:01\n",
      "   ------------------------------------ --- 14.1/15.5 MB 4.6 MB/s eta 0:00:01\n",
      "   ------------------------------------ --- 14.3/15.5 MB 4.6 MB/s eta 0:00:01\n",
      "   ------------------------------------- -- 14.5/15.5 MB 4.6 MB/s eta 0:00:01\n",
      "   ------------------------------------- -- 14.7/15.5 MB 4.6 MB/s eta 0:00:01\n",
      "   -------------------------------------- - 14.8/15.5 MB 4.6 MB/s eta 0:00:01\n",
      "   -------------------------------------- - 15.0/15.5 MB 4.6 MB/s eta 0:00:01\n",
      "   ---------------------------------------  15.1/15.5 MB 4.6 MB/s eta 0:00:01\n",
      "   ---------------------------------------  15.2/15.5 MB 4.5 MB/s eta 0:00:01\n",
      "   ---------------------------------------  15.4/15.5 MB 4.5 MB/s eta 0:00:01\n",
      "   ---------------------------------------  15.5/15.5 MB 4.5 MB/s eta 0:00:01\n",
      "   ---------------------------------------  15.5/15.5 MB 4.5 MB/s eta 0:00:01\n",
      "   ---------------------------------------  15.5/15.5 MB 4.5 MB/s eta 0:00:01\n",
      "   ---------------------------------------  15.5/15.5 MB 4.5 MB/s eta 0:00:01\n",
      "   ---------------------------------------  15.5/15.5 MB 4.5 MB/s eta 0:00:01\n",
      "   ---------------------------------------  15.5/15.5 MB 4.5 MB/s eta 0:00:01\n",
      "   ---------------------------------------- 15.5/15.5 MB 4.0 MB/s eta 0:00:00\n",
      "Installing collected packages: numpy\n",
      "Successfully installed numpy-1.26.2\n",
      "Note: you may need to restart the kernel to use updated packages.\n"
     ]
    },
    {
     "name": "stderr",
     "output_type": "stream",
     "text": [
      "\n",
      "[notice] A new release of pip is available: 23.2.1 -> 23.3.1\n",
      "[notice] To update, run: python.exe -m pip install --upgrade pip\n"
     ]
    }
   ],
   "source": [
    "#per installare: \n",
    "%pip install numpy"
   ]
  },
  {
   "cell_type": "code",
   "execution_count": 9,
   "metadata": {},
   "outputs": [
    {
     "name": "stdout",
     "output_type": "stream",
     "text": [
      "[1, 2, 3, 4, 1, 2, 3, 4]\n",
      "[1, 2, 3, 4, 9, 8, 7, 6]\n"
     ]
    }
   ],
   "source": [
    "#lista vs array\n",
    "lista = [1,2,3,4]\n",
    "lista2 = [9,8,7,6]\n",
    "print(lista*2)\n",
    "print(lista+lista2)"
   ]
  },
  {
   "cell_type": "code",
   "execution_count": 10,
   "metadata": {},
   "outputs": [
    {
     "name": "stdout",
     "output_type": "stream",
     "text": [
      "[2 4 6 8]\n",
      "[10 10 10 10]\n"
     ]
    }
   ],
   "source": [
    "import numpy as np\n",
    "\n",
    "array = np.array(lista)\n",
    "array2 = np.array(lista2)\n",
    "print(array*2)\n",
    "print(array+array2)"
   ]
  },
  {
   "cell_type": "code",
   "execution_count": 15,
   "metadata": {},
   "outputs": [
    {
     "name": "stdout",
     "output_type": "stream",
     "text": [
      "9\n",
      "6\n",
      "[1 2]\n",
      "[3]\n"
     ]
    }
   ],
   "source": [
    "print(array2[0]) #primo indice\n",
    "print(array2[-1]) #ultimo indice\n",
    "print(array[0:2]) #range di indici\n",
    "print(array[2:-1])"
   ]
  },
  {
   "cell_type": "code",
   "execution_count": 18,
   "metadata": {},
   "outputs": [
    {
     "name": "stdout",
     "output_type": "stream",
     "text": [
      "(4,)\n",
      "<class 'tuple'>\n"
     ]
    }
   ],
   "source": [
    "print(array.shape)\n",
    "print(type(array.shape))"
   ]
  },
  {
   "cell_type": "code",
   "execution_count": 21,
   "metadata": {},
   "outputs": [
    {
     "name": "stdout",
     "output_type": "stream",
     "text": [
      "2.5\n",
      "1.118033988749895\n",
      "1\n",
      "4\n",
      "10\n"
     ]
    }
   ],
   "source": [
    "print(array.mean()) #media\n",
    "print(array.std()) #deviazione standard\n",
    "print(array.min()) #valore minimo\n",
    "print(array.max()) #valore massimo\n",
    "print(array.sum()) #somma"
   ]
  },
  {
   "cell_type": "code",
   "execution_count": 24,
   "metadata": {},
   "outputs": [
    {
     "name": "stdout",
     "output_type": "stream",
     "text": [
      "[0, 0, 0, 0, 0, 0, 0, 0, 0, 0]\n",
      "[0. 0. 0. 0. 0. 0. 0. 0. 0. 0.]\n",
      "[1. 1. 1. 1. 1. 1. 1. 1. 1. 1.]\n"
     ]
    }
   ],
   "source": [
    "lista_zeri = [0]*10\n",
    "print(lista_zeri)\n",
    "\n",
    "zeri = np.zeros(10)\n",
    "print(zeri)\n",
    "\n",
    "array_uno = np.ones(10)\n",
    "print(array_uno)"
   ]
  },
  {
   "cell_type": "code",
   "execution_count": 51,
   "metadata": {},
   "outputs": [
    {
     "name": "stdout",
     "output_type": "stream",
     "text": [
      "[1. 1. 1. 0. 1. 3. 1. 1. 0. 1.]\n"
     ]
    }
   ],
   "source": [
    "from random import randint\n",
    "zeri = np.zeros(10)\n",
    "\n",
    "for i in range(10): #ripeti 10 volte\n",
    "    rand_int = randint(0,zeri.shape[0]-1)\n",
    "    zeri[rand_int] += 1\n",
    "\n",
    "print(zeri)"
   ]
  },
  {
   "cell_type": "code",
   "execution_count": 52,
   "metadata": {},
   "outputs": [
    {
     "data": {
      "text/plain": [
       "array([False, False, False, False, False, False, False, False, False,\n",
       "       False])"
      ]
     },
     "execution_count": 52,
     "metadata": {},
     "output_type": "execute_result"
    }
   ],
   "source": [
    "boolean_array = np.zeros(10, dtype=bool)\n",
    "boolean_array"
   ]
  },
  {
   "cell_type": "code",
   "execution_count": 53,
   "metadata": {},
   "outputs": [
    {
     "name": "stdout",
     "output_type": "stream",
     "text": [
      "[[0. 0. 0. 0. 0. 0. 0. 0. 0.]\n",
      " [0. 0. 0. 0. 0. 0. 0. 0. 0.]\n",
      " [0. 0. 0. 0. 0. 0. 0. 0. 0.]\n",
      " [0. 0. 0. 0. 0. 0. 0. 0. 0.]\n",
      " [0. 0. 0. 0. 0. 0. 0. 0. 0.]]\n"
     ]
    }
   ],
   "source": [
    "n_dimension_array = np.zeros((5,9))\n",
    "print(n_dimension_array)"
   ]
  },
  {
   "cell_type": "code",
   "execution_count": 54,
   "metadata": {},
   "outputs": [
    {
     "name": "stdout",
     "output_type": "stream",
     "text": [
      "[[9. 9. 9. 9. 9. 9. 9. 9. 9.]\n",
      " [9. 9. 9. 9. 9. 9. 9. 9. 9.]\n",
      " [9. 9. 9. 9. 9. 9. 9. 9. 9.]\n",
      " [9. 9. 9. 9. 9. 9. 9. 9. 9.]\n",
      " [9. 9. 9. 9. 9. 9. 9. 9. 9.]]\n"
     ]
    }
   ],
   "source": [
    "print(n_dimension_array+9)"
   ]
  },
  {
   "cell_type": "code",
   "execution_count": 55,
   "metadata": {},
   "outputs": [
    {
     "data": {
      "text/plain": [
       "(5, 9)"
      ]
     },
     "execution_count": 55,
     "metadata": {},
     "output_type": "execute_result"
    }
   ],
   "source": [
    "n_dimension_array.shape"
   ]
  },
  {
   "cell_type": "code",
   "execution_count": 61,
   "metadata": {},
   "outputs": [
    {
     "name": "stdout",
     "output_type": "stream",
     "text": [
      "[ 5  6  7  8  9 10 11 12 13 14 15 16 17 18 19]\n"
     ]
    },
    {
     "data": {
      "text/plain": [
       "array([[ 0,  1],\n",
       "       [ 2,  3],\n",
       "       [ 4,  5],\n",
       "       [ 6,  7],\n",
       "       [ 8,  9],\n",
       "       [10, 11],\n",
       "       [12, 13],\n",
       "       [14, 15]])"
      ]
     },
     "execution_count": 61,
     "metadata": {},
     "output_type": "execute_result"
    }
   ],
   "source": [
    "array_range = np.arange(5,20) #range, dentro una matrice\n",
    "print(array_range)\n",
    "\n",
    "np.arange(16).reshape(8,2) #reshape deve avere la stessa dimensione totale della matrice iniziale\n",
    "#np.arange(15).reshape(8,2) #<- errore"
   ]
  },
  {
   "cell_type": "code",
   "execution_count": 62,
   "metadata": {},
   "outputs": [
    {
     "data": {
      "text/plain": [
       "array([[1., 0., 0., 0.],\n",
       "       [0., 1., 0., 0.],\n",
       "       [0., 0., 1., 0.],\n",
       "       [0., 0., 0., 1.]])"
      ]
     },
     "execution_count": 62,
     "metadata": {},
     "output_type": "execute_result"
    }
   ],
   "source": [
    "np.eye(4) #Matrice di Identità"
   ]
  },
  {
   "cell_type": "code",
   "execution_count": 65,
   "metadata": {},
   "outputs": [],
   "source": [
    "array_randint = np.random.randint(1, 20, 15) #parametri: (numero iniziale, numero finale, dimensione matrice)"
   ]
  },
  {
   "cell_type": "code",
   "execution_count": 66,
   "metadata": {},
   "outputs": [
    {
     "data": {
      "text/plain": [
       "10.6"
      ]
     },
     "execution_count": 66,
     "metadata": {},
     "output_type": "execute_result"
    }
   ],
   "source": [
    "array_randint.mean()"
   ]
  },
  {
   "cell_type": "code",
   "execution_count": 68,
   "metadata": {},
   "outputs": [
    {
     "data": {
      "text/plain": [
       "array([0.01, 0.02, 0.03, 0.04, 0.05, 0.06, 0.07, 0.08, 0.09, 0.1 , 0.11,\n",
       "       0.12, 0.13, 0.14, 0.15, 0.16, 0.17, 0.18, 0.19, 0.2 , 0.21, 0.22,\n",
       "       0.23, 0.24, 0.25, 0.26, 0.27, 0.28, 0.29, 0.3 , 0.31, 0.32, 0.33,\n",
       "       0.34, 0.35, 0.36, 0.37, 0.38, 0.39, 0.4 , 0.41, 0.42, 0.43, 0.44,\n",
       "       0.45, 0.46, 0.47, 0.48, 0.49, 0.5 , 0.51, 0.52, 0.53, 0.54, 0.55,\n",
       "       0.56, 0.57, 0.58, 0.59, 0.6 , 0.61, 0.62, 0.63, 0.64, 0.65, 0.66,\n",
       "       0.67, 0.68, 0.69, 0.7 , 0.71, 0.72, 0.73, 0.74, 0.75, 0.76, 0.77,\n",
       "       0.78, 0.79, 0.8 , 0.81, 0.82, 0.83, 0.84, 0.85, 0.86, 0.87, 0.88,\n",
       "       0.89, 0.9 , 0.91, 0.92, 0.93, 0.94, 0.95, 0.96, 0.97, 0.98, 0.99,\n",
       "       1.  ])"
      ]
     },
     "execution_count": 68,
     "metadata": {},
     "output_type": "execute_result"
    }
   ],
   "source": [
    "np.linspace(0.01, 1, 100)"
   ]
  },
  {
   "cell_type": "code",
   "execution_count": 69,
   "metadata": {},
   "outputs": [
    {
     "data": {
      "text/plain": [
       "array([[0.01, 0.02, 0.03, 0.04, 0.05, 0.06, 0.07, 0.08, 0.09, 0.1 ],\n",
       "       [0.11, 0.12, 0.13, 0.14, 0.15, 0.16, 0.17, 0.18, 0.19, 0.2 ],\n",
       "       [0.21, 0.22, 0.23, 0.24, 0.25, 0.26, 0.27, 0.28, 0.29, 0.3 ],\n",
       "       [0.31, 0.32, 0.33, 0.34, 0.35, 0.36, 0.37, 0.38, 0.39, 0.4 ],\n",
       "       [0.41, 0.42, 0.43, 0.44, 0.45, 0.46, 0.47, 0.48, 0.49, 0.5 ],\n",
       "       [0.51, 0.52, 0.53, 0.54, 0.55, 0.56, 0.57, 0.58, 0.59, 0.6 ],\n",
       "       [0.61, 0.62, 0.63, 0.64, 0.65, 0.66, 0.67, 0.68, 0.69, 0.7 ],\n",
       "       [0.71, 0.72, 0.73, 0.74, 0.75, 0.76, 0.77, 0.78, 0.79, 0.8 ],\n",
       "       [0.81, 0.82, 0.83, 0.84, 0.85, 0.86, 0.87, 0.88, 0.89, 0.9 ],\n",
       "       [0.91, 0.92, 0.93, 0.94, 0.95, 0.96, 0.97, 0.98, 0.99, 1.  ]])"
      ]
     },
     "execution_count": 69,
     "metadata": {},
     "output_type": "execute_result"
    }
   ],
   "source": [
    "np.linspace(0.01, 1, 100).reshape(10,10)"
   ]
  },
  {
   "cell_type": "code",
   "execution_count": 71,
   "metadata": {},
   "outputs": [
    {
     "name": "stdout",
     "output_type": "stream",
     "text": [
      "[14.78029868 14.81072911 24.72049311  8.16099462 11.01002311 16.42584988\n",
      " 21.53394826  9.98519958 17.52023906 22.5673363  22.3448463  11.50595551\n",
      " 22.00363758 11.21320147 10.98995052 19.20593948 22.58791922 22.56290329\n",
      " 23.41003408 14.86713273]\n",
      "[ 8 39 80 28 70 97 97 67 90 68 31 61 83 60 18 53 69  5 12  0]\n"
     ]
    }
   ],
   "source": [
    "ore_studio = np.random.uniform(8,25, 20) #valori tra 8 e 25, per 20 studenti\n",
    "voti = np.random.randint(0,100, 20) #valori tra 0 e 100\n",
    "print(ore_studio)\n",
    "print(voti)"
   ]
  },
  {
   "cell_type": "code",
   "execution_count": 72,
   "metadata": {},
   "outputs": [
    {
     "name": "stdout",
     "output_type": "stream",
     "text": [
      "[[14.78029868 14.81072911 24.72049311  8.16099462 11.01002311 16.42584988\n",
      "  21.53394826  9.98519958 17.52023906 22.5673363  22.3448463  11.50595551\n",
      "  22.00363758 11.21320147 10.98995052 19.20593948 22.58791922 22.56290329\n",
      "  23.41003408 14.86713273]\n",
      " [ 8.         39.         80.         28.         70.         97.\n",
      "  97.         67.         90.         68.         31.         61.\n",
      "  83.         60.         18.         53.         69.          5.\n",
      "  12.          0.        ]]\n"
     ]
    }
   ],
   "source": [
    "student_data = np.array([ore_studio, voti])\n",
    "print(student_data)"
   ]
  },
  {
   "cell_type": "code",
   "execution_count": 75,
   "metadata": {},
   "outputs": [
    {
     "data": {
      "text/plain": [
       "array([[14.78029868, 14.81072911, 24.72049311,  8.16099462, 11.01002311],\n",
       "       [ 8.        , 39.        , 80.        , 28.        , 70.        ]])"
      ]
     },
     "execution_count": 75,
     "metadata": {},
     "output_type": "execute_result"
    }
   ],
   "source": [
    "student_data[1, 8]\n",
    "student_data[1]\n",
    "student_data[0:2, 0:5]"
   ]
  },
  {
   "cell_type": "code",
   "execution_count": 77,
   "metadata": {},
   "outputs": [
    {
     "data": {
      "text/plain": [
       "array([11.39014934, 26.90536455, 52.36024655, 18.08049731, 40.50501156,\n",
       "       56.71292494, 59.26697413, 38.49259979, 53.76011953, 45.28366815,\n",
       "       26.67242315, 36.25297776, 52.50181879, 35.60660074, 14.49497526,\n",
       "       36.10296974, 45.79395961, 13.78145164, 17.70501704,  7.43356637])"
      ]
     },
     "execution_count": 77,
     "metadata": {},
     "output_type": "execute_result"
    }
   ],
   "source": [
    "student_data.mean(axis=0) #media su ogni riga"
   ]
  },
  {
   "cell_type": "code",
   "execution_count": 79,
   "metadata": {},
   "outputs": [
    {
     "data": {
      "text/plain": [
       "array([17.11033159, 51.8       ])"
      ]
     },
     "execution_count": 79,
     "metadata": {},
     "output_type": "execute_result"
    }
   ],
   "source": [
    "student_data.mean(axis=1) #media su ogni colonna"
   ]
  },
  {
   "cell_type": "code",
   "execution_count": 80,
   "metadata": {},
   "outputs": [
    {
     "name": "stderr",
     "output_type": "stream",
     "text": [
      "C:\\Users\\WilliamRussell\\AppData\\Local\\Temp\\ipykernel_13260\\3890752643.py:1: RuntimeWarning: divide by zero encountered in divide\n",
      "  student_data[0]/student_data[1]\n"
     ]
    },
    {
     "data": {
      "text/plain": [
       "array([1.84753733, 0.37976228, 0.30900616, 0.29146409, 0.15728604,\n",
       "       0.16933866, 0.22199947, 0.14903283, 0.19466932, 0.33187259,\n",
       "       0.72080149, 0.18862222, 0.26510407, 0.18688669, 0.61055281,\n",
       "       0.36237622, 0.32736115, 4.51258066, 1.95083617,        inf])"
      ]
     },
     "execution_count": 80,
     "metadata": {},
     "output_type": "execute_result"
    }
   ],
   "source": [
    "student_data[0]/student_data[1]"
   ]
  },
  {
   "cell_type": "markdown",
   "metadata": {},
   "source": [
    "### Matplotlib"
   ]
  },
  {
   "cell_type": "code",
   "execution_count": 81,
   "metadata": {},
   "outputs": [
    {
     "name": "stdout",
     "output_type": "stream",
     "text": [
      "Collecting matplotlib\n",
      "  Obtaining dependency information for matplotlib from https://files.pythonhosted.org/packages/d9/82/59970be41cc28cd7b7ae3ddc1d6b3891715af669ea0a0d2c244e126d3bb6/matplotlib-3.8.1-cp312-cp312-win_amd64.whl.metadata\n",
      "  Downloading matplotlib-3.8.1-cp312-cp312-win_amd64.whl.metadata (5.9 kB)\n",
      "Collecting contourpy>=1.0.1 (from matplotlib)\n",
      "  Obtaining dependency information for contourpy>=1.0.1 from https://files.pythonhosted.org/packages/8e/ae/a6353db548bff1a592b85ae6bb80275f0a51dc25a0410d059e5b33183e36/contourpy-1.2.0-cp312-cp312-win_amd64.whl.metadata\n",
      "  Downloading contourpy-1.2.0-cp312-cp312-win_amd64.whl.metadata (5.8 kB)\n",
      "Collecting cycler>=0.10 (from matplotlib)\n",
      "  Obtaining dependency information for cycler>=0.10 from https://files.pythonhosted.org/packages/e7/05/c19819d5e3d95294a6f5947fb9b9629efb316b96de511b418c53d245aae6/cycler-0.12.1-py3-none-any.whl.metadata\n",
      "  Downloading cycler-0.12.1-py3-none-any.whl.metadata (3.8 kB)\n",
      "Collecting fonttools>=4.22.0 (from matplotlib)\n",
      "  Obtaining dependency information for fonttools>=4.22.0 from https://files.pythonhosted.org/packages/64/09/1a60407be24de0b10af1c3190febdaa90163c42b41f01f919cfe72ba5339/fonttools-4.44.3-cp312-cp312-win_amd64.whl.metadata\n",
      "  Downloading fonttools-4.44.3-cp312-cp312-win_amd64.whl.metadata (157 kB)\n",
      "     ---------------------------------------- 0.0/157.7 kB ? eta -:--:--\n",
      "     ---------------------------------------- 0.0/157.7 kB ? eta -:--:--\n",
      "     -- ------------------------------------- 10.2/157.7 kB ? eta -:--:--\n",
      "     -------------------- ------------------ 81.9/157.7 kB 1.1 MB/s eta 0:00:01\n",
      "     -------------------------------------- 157.7/157.7 kB 1.3 MB/s eta 0:00:00\n",
      "Collecting kiwisolver>=1.3.1 (from matplotlib)\n",
      "  Obtaining dependency information for kiwisolver>=1.3.1 from https://files.pythonhosted.org/packages/63/50/2746566bdf4a6a842d117367d05c90cfb87ac04e9e2845aa1fa21f071362/kiwisolver-1.4.5-cp312-cp312-win_amd64.whl.metadata\n",
      "  Downloading kiwisolver-1.4.5-cp312-cp312-win_amd64.whl.metadata (6.5 kB)\n",
      "Requirement already satisfied: numpy<2,>=1.21 in c:\\users\\williamrussell\\appdata\\local\\programs\\python\\python312\\lib\\site-packages (from matplotlib) (1.26.2)\n",
      "Requirement already satisfied: packaging>=20.0 in c:\\users\\williamrussell\\appdata\\roaming\\python\\python312\\site-packages (from matplotlib) (23.2)\n",
      "Collecting pillow>=8 (from matplotlib)\n",
      "  Obtaining dependency information for pillow>=8 from https://files.pythonhosted.org/packages/32/e4/978865107d097dd9cb650331676d8dc29ed9fcd0aaab46486e9d6e5123f0/Pillow-10.1.0-cp312-cp312-win_amd64.whl.metadata\n",
      "  Downloading Pillow-10.1.0-cp312-cp312-win_amd64.whl.metadata (9.6 kB)\n",
      "Collecting pyparsing>=2.3.1 (from matplotlib)\n",
      "  Obtaining dependency information for pyparsing>=2.3.1 from https://files.pythonhosted.org/packages/39/92/8486ede85fcc088f1b3dba4ce92dd29d126fd96b0008ea213167940a2475/pyparsing-3.1.1-py3-none-any.whl.metadata\n",
      "  Downloading pyparsing-3.1.1-py3-none-any.whl.metadata (5.1 kB)\n",
      "Requirement already satisfied: python-dateutil>=2.7 in c:\\users\\williamrussell\\appdata\\roaming\\python\\python312\\site-packages (from matplotlib) (2.8.2)\n",
      "Requirement already satisfied: six>=1.5 in c:\\users\\williamrussell\\appdata\\roaming\\python\\python312\\site-packages (from python-dateutil>=2.7->matplotlib) (1.16.0)\n",
      "Downloading matplotlib-3.8.1-cp312-cp312-win_amd64.whl (7.6 MB)\n",
      "   ---------------------------------------- 0.0/7.6 MB ? eta -:--:--\n",
      "   - -------------------------------------- 0.2/7.6 MB 4.8 MB/s eta 0:00:02\n",
      "   -- ------------------------------------- 0.5/7.6 MB 5.9 MB/s eta 0:00:02\n",
      "   --- ------------------------------------ 0.7/7.6 MB 4.6 MB/s eta 0:00:02\n",
      "   ---- ----------------------------------- 0.9/7.6 MB 5.0 MB/s eta 0:00:02\n",
      "   ----- ---------------------------------- 1.1/7.6 MB 4.6 MB/s eta 0:00:02\n",
      "   ------ --------------------------------- 1.3/7.6 MB 4.7 MB/s eta 0:00:02\n",
      "   -------- ------------------------------- 1.6/7.6 MB 5.2 MB/s eta 0:00:02\n",
      "   --------- ------------------------------ 1.8/7.6 MB 5.1 MB/s eta 0:00:02\n",
      "   ---------- ----------------------------- 2.0/7.6 MB 5.0 MB/s eta 0:00:02\n",
      "   ------------ --------------------------- 2.4/7.6 MB 5.2 MB/s eta 0:00:02\n",
      "   --------------- ------------------------ 3.0/7.6 MB 5.9 MB/s eta 0:00:01\n",
      "   ------------------ --------------------- 3.5/7.6 MB 6.4 MB/s eta 0:00:01\n",
      "   -------------------- ------------------- 4.0/7.6 MB 6.7 MB/s eta 0:00:01\n",
      "   ---------------------- ----------------- 4.3/7.6 MB 6.8 MB/s eta 0:00:01\n",
      "   ------------------------ --------------- 4.6/7.6 MB 6.8 MB/s eta 0:00:01\n",
      "   -------------------------- ------------- 5.1/7.6 MB 6.9 MB/s eta 0:00:01\n",
      "   ------------------------------ --------- 5.7/7.6 MB 7.3 MB/s eta 0:00:01\n",
      "   -------------------------------- ------- 6.1/7.6 MB 7.5 MB/s eta 0:00:01\n",
      "   --------------------------------- ------ 6.3/7.6 MB 7.2 MB/s eta 0:00:01\n",
      "   ---------------------------------- ----- 6.7/7.6 MB 7.2 MB/s eta 0:00:01\n",
      "   ------------------------------------ --- 6.9/7.6 MB 7.1 MB/s eta 0:00:01\n",
      "   -------------------------------------- - 7.4/7.6 MB 7.2 MB/s eta 0:00:01\n",
      "   ---------------------------------------  7.6/7.6 MB 7.3 MB/s eta 0:00:01\n",
      "   ---------------------------------------  7.6/7.6 MB 7.3 MB/s eta 0:00:01\n",
      "   ---------------------------------------- 7.6/7.6 MB 6.9 MB/s eta 0:00:00\n",
      "Downloading contourpy-1.2.0-cp312-cp312-win_amd64.whl (187 kB)\n",
      "   ---------------------------------------- 0.0/187.7 kB ? eta -:--:--\n",
      "   ---------------------------------------- 187.7/187.7 kB 3.8 MB/s eta 0:00:00\n",
      "Downloading cycler-0.12.1-py3-none-any.whl (8.3 kB)\n",
      "Downloading fonttools-4.44.3-cp312-cp312-win_amd64.whl (2.1 MB)\n",
      "   ---------------------------------------- 0.0/2.1 MB ? eta -:--:--\n",
      "   ------- -------------------------------- 0.4/2.1 MB 8.7 MB/s eta 0:00:01\n",
      "   ---------------- ----------------------- 0.9/2.1 MB 9.3 MB/s eta 0:00:01\n",
      "   ---------------------- ----------------- 1.2/2.1 MB 8.4 MB/s eta 0:00:01\n",
      "   -------------------------- ------------- 1.4/2.1 MB 8.3 MB/s eta 0:00:01\n",
      "   --------------------------------- ------ 1.8/2.1 MB 8.2 MB/s eta 0:00:01\n",
      "   ---------------------------------------  2.1/2.1 MB 8.0 MB/s eta 0:00:01\n",
      "   ---------------------------------------- 2.1/2.1 MB 7.2 MB/s eta 0:00:00\n",
      "Downloading kiwisolver-1.4.5-cp312-cp312-win_amd64.whl (56 kB)\n",
      "   ---------------------------------------- 0.0/56.0 kB ? eta -:--:--\n",
      "   ---------------------------------------- 56.0/56.0 kB 3.1 MB/s eta 0:00:00\n",
      "Downloading Pillow-10.1.0-cp312-cp312-win_amd64.whl (2.6 MB)\n",
      "   ---------------------------------------- 0.0/2.6 MB ? eta -:--:--\n",
      "   ------ --------------------------------- 0.4/2.6 MB 8.7 MB/s eta 0:00:01\n",
      "   ------------ --------------------------- 0.8/2.6 MB 8.6 MB/s eta 0:00:01\n",
      "   ------------------ --------------------- 1.2/2.6 MB 8.7 MB/s eta 0:00:01\n",
      "   ---------------------- ----------------- 1.5/2.6 MB 7.7 MB/s eta 0:00:01\n",
      "   --------------------------- ------------ 1.8/2.6 MB 7.5 MB/s eta 0:00:01\n",
      "   -------------------------------- ------- 2.1/2.6 MB 7.8 MB/s eta 0:00:01\n",
      "   ------------------------------------ --- 2.4/2.6 MB 7.3 MB/s eta 0:00:01\n",
      "   ---------------------------------------  2.6/2.6 MB 6.9 MB/s eta 0:00:01\n",
      "   ---------------------------------------- 2.6/2.6 MB 6.6 MB/s eta 0:00:00\n",
      "Downloading pyparsing-3.1.1-py3-none-any.whl (103 kB)\n",
      "   ---------------------------------------- 0.0/103.1 kB ? eta -:--:--\n",
      "   ---------------------------------------- 103.1/103.1 kB 5.8 MB/s eta 0:00:00\n",
      "Installing collected packages: pyparsing, pillow, kiwisolver, fonttools, cycler, contourpy, matplotlib\n",
      "Successfully installed contourpy-1.2.0 cycler-0.12.1 fonttools-4.44.3 kiwisolver-1.4.5 matplotlib-3.8.1 pillow-10.1.0 pyparsing-3.1.1\n",
      "Note: you may need to restart the kernel to use updated packages.\n"
     ]
    },
    {
     "name": "stderr",
     "output_type": "stream",
     "text": [
      "\n",
      "[notice] A new release of pip is available: 23.2.1 -> 23.3.1\n",
      "[notice] To update, run: python.exe -m pip install --upgrade pip\n"
     ]
    }
   ],
   "source": [
    "%pip install matplotlib"
   ]
  },
  {
   "cell_type": "code",
   "execution_count": 83,
   "metadata": {},
   "outputs": [],
   "source": [
    "#from matplotlib import pyplot as plt\n",
    "import matplotlib.pyplot as plt\n",
    "import numpy as np"
   ]
  },
  {
   "cell_type": "code",
   "execution_count": 84,
   "metadata": {},
   "outputs": [],
   "source": [
    "x = np.arange(0,100)\n",
    "y = x*2\n",
    "z = x**2"
   ]
  },
  {
   "cell_type": "code",
   "execution_count": 86,
   "metadata": {},
   "outputs": [],
   "source": [
    "# esercizio\n",
    "\n",
    "# creare una figura (fig) con la funzione plt.figure()\n",
    "# usare la funzione add_axes per creare un grafico [0,0,1,1] (ax)\n",
    "# x,z su quelle assi\n",
    "# asse x avrà il nome 'x', y: 'z', titolo del grafico: 'titolo'"
   ]
  },
  {
   "cell_type": "code",
   "execution_count": 93,
   "metadata": {},
   "outputs": [
    {
     "data": {
      "text/plain": [
       "Text(0.5, 1.0, 'titolo')"
      ]
     },
     "execution_count": 93,
     "metadata": {},
     "output_type": "execute_result"
    },
    {
     "data": {
      "image/png": "[encoded data removed]",
      "text/plain": [
       "<Figure size 640x480 with 1 Axes>"
      ]
     },
     "metadata": {},
     "output_type": "display_data"
    }
   ],
   "source": [
    "fig = plt.figure()\n",
    "ax = fig.add_axes([0,0,1,1])\n",
    "ax.plot(x,z)\n",
    "ax.set_xlabel('x')\n",
    "ax.set_ylabel('z')\n",
    "ax.set_title('titolo')"
   ]
  },
  {
   "cell_type": "code",
   "execution_count": 94,
   "metadata": {},
   "outputs": [
    {
     "data": {
      "image/png": "[encoded data removed]",
      "text/plain": [
       "<Figure size 640x480 with 2 Axes>"
      ]
     },
     "execution_count": 94,
     "metadata": {},
     "output_type": "execute_result"
    }
   ],
   "source": [
    "ax2 = fig.add_axes([0.2,0.5,.2,.2])\n",
    "ax2.plot(x,y)\n",
    "fig"
   ]
  },
  {
   "cell_type": "code",
   "execution_count": 95,
   "metadata": {},
   "outputs": [
    {
     "data": {
      "text/plain": [
       "Text(0.5, 1.0, 'subplot')"
      ]
     },
     "execution_count": 95,
     "metadata": {},
     "output_type": "execute_result"
    }
   ],
   "source": [
    "ax2.set_xlabel('x2')\n",
    "ax2.set_ylabel('y2')\n",
    "ax2.set_title('subplot')"
   ]
  },
  {
   "cell_type": "code",
   "execution_count": 96,
   "metadata": {},
   "outputs": [
    {
     "data": {
      "image/png": "[encoded data removed]",
      "text/plain": [
       "<Figure size 640x480 with 2 Axes>"
      ]
     },
     "execution_count": 96,
     "metadata": {},
     "output_type": "execute_result"
    }
   ],
   "source": [
    "fig"
   ]
  }
 ],
 "metadata": {
  "kernelspec": {
   "display_name": "Python 3",
   "language": "python",
   "name": "python3"
  },
  "language_info": {
   "codemirror_mode": {
    "name": "ipython",
    "version": 3
   },
   "file_extension": ".py",
   "mimetype": "text/x-python",
   "name": "python",
   "nbconvert_exporter": "python",
   "pygments_lexer": "ipython3",
   "version": "3.12.0"
  }
 },
 "nbformat": 4,
 "nbformat_minor": 2
}
