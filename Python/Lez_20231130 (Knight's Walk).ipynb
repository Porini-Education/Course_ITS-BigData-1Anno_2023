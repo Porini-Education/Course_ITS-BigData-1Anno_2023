{
 "cells": [
  {
   "cell_type": "markdown",
   "metadata": {},
   "source": [
    "Ripasso di loop"
   ]
  },
  {
   "cell_type": "code",
   "execution_count": null,
   "metadata": {},
   "outputs": [],
   "source": [
    "frase = \"questo cane è più veloce di un altro cane\"\n",
    "\n",
    "# Questi sono equivalenti\n",
    "\n",
    "for parola in frase.split():\n",
    "    print(parola)\n",
    "\n",
    "lista_parole = frase.split()\n",
    "for i in range(len(lista_parole)):\n",
    "    print(lista_parole[i])\n",
    "\n",
    "ii = 0\n",
    "while ii < len(lista_parole):\n",
    "    print(lista_parole[ii])\n",
    "    ii += 1"
   ]
  },
  {
   "cell_type": "code",
   "execution_count": null,
   "metadata": {},
   "outputs": [
    {
     "name": "stdout",
     "output_type": "stream",
     "text": [
      "2\n"
     ]
    }
   ],
   "source": [
    "conta = 0\n",
    "for parola in frase.split():\n",
    "    if parola == \"cane\":\n",
    "        conta += 1\n",
    "\n",
    "print(conta)"
   ]
  },
  {
   "cell_type": "code",
   "execution_count": null,
   "metadata": {},
   "outputs": [
    {
     "name": "stdout",
     "output_type": "stream",
     "text": [
      "*\n",
      "**\n",
      "***\n",
      "****\n",
      "***\n",
      "**\n",
      "*\n"
     ]
    }
   ],
   "source": [
    "ast = '*'\n",
    "#con un loop creare una piramide di asterischi di lughezza massima 4:\n",
    "# *\n",
    "# **\n",
    "# ***\n",
    "# ****\n",
    "# ***\n",
    "# **\n",
    "# *\n",
    "for i in range(4):\n",
    "    print(ast*(i+1))\n",
    "for i in range(3,0,-1):\n",
    "    print(ast*i)"
   ]
  },
  {
   "cell_type": "code",
   "execution_count": null,
   "metadata": {},
   "outputs": [
    {
     "name": "stdout",
     "output_type": "stream",
     "text": [
      "[1, 2, 3, 4, 5, 6, 7, 8, 9, 10, 11, 12, 13, 14, 15, 16, 17, 18, 19, 20]\n"
     ]
    }
   ],
   "source": [
    " #creare una lista con tutti i numeri da 1 a 20 con un while loop\n",
    "\n",
    "lista_numeri = []\n",
    "n = 1\n",
    "while len(lista_numeri) < 20:\n",
    "    lista_numeri.append(n)\n",
    "    n+=1\n",
    "\n",
    "print(lista_numeri)"
   ]
  },
  {
   "cell_type": "code",
   "execution_count": null,
   "metadata": {},
   "outputs": [
    {
     "name": "stdout",
     "output_type": "stream",
     "text": [
      "[20, 19, 18, 17, 16, 15, 14, 13, 12, 11, 10, 9, 8, 7, 6, 5, 4, 3, 2, 1]\n"
     ]
    }
   ],
   "source": [
    "#per leggere e rimuovere da una lista possiamo usare lista.pop()\n",
    "#partendo da lista_numeri, con un while loop creare una lista invertita\n",
    "\n",
    "lista_numeri_inv = []\n",
    "while len(lista_numeri) > 0:\n",
    "    numero = lista_numeri.pop()\n",
    "    lista_numeri_inv.append(numero)\n",
    "\n",
    "print(lista_numeri_inv)"
   ]
  },
  {
   "cell_type": "code",
   "execution_count": null,
   "metadata": {},
   "outputs": [],
   "source": [
    "lista_numeri_inv2= []\n",
    "dim = len(lista_numeri)\n",
    "i=1\n",
    "while len(lista_numeri_inv2) <20:\n",
    "    n = lista_numeri[dim-i]\n",
    "    lista_numeri_inv2.append(n)\n",
    "    i += 1\n",
    "\n",
    "print(lista_numeri_inv2)"
   ]
  },
  {
   "cell_type": "code",
   "execution_count": null,
   "metadata": {},
   "outputs": [
    {
     "name": "stdout",
     "output_type": "stream",
     "text": [
      "[20, 19, 18, 17, 16, 15, 14, 13, 12, 11, 10, 9, 8, 7, 6, 5, 4, 3, 2, 1]\n"
     ]
    }
   ],
   "source": [
    "lista_numeri_inv3= []\n",
    "i=-1 #prende dall'ultimo elemento\n",
    "while len(lista_numeri_inv3) <20:\n",
    "    n = lista_numeri[i]\n",
    "    lista_numeri_inv3.append(n)\n",
    "    i -= 1 #N.B. riduco di uno\n",
    "\n",
    "print(lista_numeri_inv3)"
   ]
  },
  {
   "cell_type": "code",
   "execution_count": null,
   "metadata": {},
   "outputs": [
    {
     "name": "stdout",
     "output_type": "stream",
     "text": [
      "[1, 2, 3, 4, 5, 6, 7, 8, 9, 10, 11, 12, 13, 14, 15, 16, 17, 18, 19, 20]\n",
      "[20, 19, 18, 17, 16, 15, 14, 13, 12, 11, 10, 9, 8, 7, 6, 5, 4, 3, 2, 1]\n",
      "[21, 21, 21, 21, 21, 21, 21, 21, 21, 21, 21, 21, 21, 21, 21, 21, 21, 21, 21, 21]\n",
      "[21, 21, 21, 21, 21, 21, 21, 21, 21, 21, 21, 21, 21, 21, 21, 21, 21, 21, 21, 21]\n",
      "[21, 21, 21, 21, 21, 21, 21, 21, 21, 21, 21, 21, 21, 21, 21, 21, 21, 21, 21, 21]\n"
     ]
    }
   ],
   "source": [
    "#fare la somma tra indici delle due liste\n",
    "print(lista_numeri)\n",
    "print(lista_numeri_inv3)\n",
    "\n",
    "conta = 0\n",
    "lista_sommata = []\n",
    "while len(lista_numeri) > conta and len(lista_numeri_inv3) > conta:\n",
    "    s = lista_numeri[conta] + lista_numeri_inv3[conta]\n",
    "    lista_sommata.append(s)\n",
    "    conta +=1\n",
    "\n",
    "print(lista_sommata)\n",
    "\n",
    "lista_sommata.clear()\n",
    "for elemento1, elemento2 in zip(lista_numeri, lista_numeri_inv3):\n",
    "    lista_sommata.append(elemento1+elemento2)\n",
    "\n",
    "print(lista_sommata)\n",
    "\n",
    "lista_sommata.clear()\n",
    "for i in range(min(len(lista_numeri), len(lista_numeri_inv3))):\n",
    "    s = lista_numeri[i] + lista_numeri_inv3[i]\n",
    "    lista_sommata.append(s)\n",
    "\n",
    "print(lista_sommata)"
   ]
  },
  {
   "cell_type": "code",
   "execution_count": null,
   "metadata": {},
   "outputs": [
    {
     "name": "stdout",
     "output_type": "stream",
     "text": [
      "120\n",
      "120\n"
     ]
    }
   ],
   "source": [
    "#fattoriale:\n",
    "# 5! = 5*4*3*2*1\n",
    "# 0! = 1\n",
    "\n",
    "#dato un numero (fornito dall'utente (input)), calcolare il fattoriale (con un loop)\n",
    "numero = int(input(\"calcola il fattoriale di: \"))\n",
    "n = numero\n",
    "risultato = 1\n",
    "while n > 0:\n",
    "    risultato = risultato * n\n",
    "    n -= 1\n",
    "\n",
    "print(risultato)\n",
    "\n",
    "numero = int(input(\"calcola il fattoriale di: \"))\n",
    "\n",
    "if n == 0 or n==1:\n",
    "    risultato = 1\n",
    "elif n<0:\n",
    "    risultato = \"nosipuò\"\n",
    "else:\n",
    "    risultato =1\n",
    "    for i in range(1, n+1):\n",
    "        risultato *= i\n",
    "\n",
    "print(risultato)"
   ]
  },
  {
   "cell_type": "code",
   "execution_count": null,
   "metadata": {},
   "outputs": [
    {
     "data": {
      "text/plain": [
       "6689502913449127057588118054090372586752746333138029810295671352301633557244962989366874165271984981308157637893214090552534408589408121859898481114389650005964960521256960000000000000000000000000000"
      ]
     },
     "metadata": {},
     "output_type": "display_data"
    }
   ],
   "source": [
    "def fattoriale_con_ricorsione(n):\n",
    "    if n < 0:\n",
    "        return \"errore\"\n",
    "    elif n < 2:\n",
    "        return 1\n",
    "    else:\n",
    "        return n * fattoriale_con_ricorsione(n-1)\n",
    "    \n",
    "\n",
    "numero = int(input(\"calcola il fattoriale di: \"))\n",
    "fattoriale_con_ricorsione(numero)"
   ]
  },
  {
   "cell_type": "code",
   "execution_count": null,
   "metadata": {},
   "outputs": [],
   "source": [
    "import math\n",
    "math.factorial(5)"
   ]
  },
  {
   "cell_type": "code",
   "execution_count": null,
   "metadata": {},
   "outputs": [
    {
     "name": "stdout",
     "output_type": "stream",
     "text": [
      "[21 21 21 21 21 21 21 21 21 21 21 21 21 21 21 21 21 21 21 21]\n",
      "[21 21 21 21 21 21 21 21 21 21 21 21 21 21 21 21 21 21 21 21]\n"
     ]
    }
   ],
   "source": [
    "import numpy as np\n",
    "array_di_numeri = np.array(lista_numeri)\n",
    "array_di_numeri_inv = np.array(lista_numeri_inv3)\n",
    "\n",
    "lista_sommata.clear()\n",
    "for i in range(min(len(array_di_numeri), len(array_di_numeri_inv))):\n",
    "    s = array_di_numeri[i] + array_di_numeri_inv[i]\n",
    "    lista_sommata.append(s)\n",
    "\n",
    "print(np.array(lista_sommata))\n",
    "\n",
    "print(array_di_numeri + array_di_numeri_inv)"
   ]
  },
  {
   "cell_type": "code",
   "execution_count": null,
   "metadata": {},
   "outputs": [
    {
     "name": "stdout",
     "output_type": "stream",
     "text": [
      "0.0\n",
      "1.0101010101010102\n",
      "2.0202020202020203\n",
      "3.0303030303030303\n",
      "4.040404040404041\n",
      "5.050505050505051\n",
      "6.0606060606060606\n",
      "7.070707070707071\n",
      "8.080808080808081\n",
      "9.090909090909092\n",
      "10.101010101010102\n",
      "11.111111111111112\n",
      "12.121212121212121\n",
      "13.131313131313131\n",
      "14.141414141414142\n",
      "15.151515151515152\n",
      "16.161616161616163\n",
      "17.171717171717173\n",
      "18.181818181818183\n",
      "19.191919191919194\n",
      "20.202020202020204\n",
      "21.212121212121215\n",
      "22.222222222222225\n",
      "23.232323232323235\n",
      "24.242424242424242\n",
      "25.252525252525253\n",
      "26.262626262626263\n",
      "27.272727272727273\n",
      "28.282828282828284\n",
      "29.292929292929294\n",
      "30.303030303030305\n",
      "31.313131313131315\n",
      "32.323232323232325\n",
      "33.333333333333336\n",
      "34.343434343434346\n",
      "35.35353535353536\n",
      "36.36363636363637\n",
      "37.37373737373738\n",
      "38.38383838383839\n",
      "39.3939393939394\n",
      "40.40404040404041\n",
      "41.41414141414142\n",
      "42.42424242424243\n",
      "43.43434343434344\n",
      "44.44444444444445\n",
      "45.45454545454546\n",
      "46.46464646464647\n",
      "47.47474747474748\n",
      "48.484848484848484\n",
      "49.494949494949495\n",
      "50.505050505050505\n",
      "51.515151515151516\n",
      "52.525252525252526\n",
      "53.535353535353536\n",
      "54.54545454545455\n",
      "55.55555555555556\n",
      "56.56565656565657\n",
      "57.57575757575758\n",
      "58.58585858585859\n",
      "59.5959595959596\n",
      "60.60606060606061\n",
      "61.61616161616162\n",
      "62.62626262626263\n",
      "63.63636363636364\n",
      "64.64646464646465\n",
      "65.65656565656566\n",
      "66.66666666666667\n",
      "67.67676767676768\n",
      "68.68686868686869\n",
      "69.6969696969697\n",
      "70.70707070707071\n",
      "71.71717171717172\n",
      "72.72727272727273\n",
      "73.73737373737374\n",
      "74.74747474747475\n",
      "75.75757575757576\n",
      "76.76767676767678\n",
      "77.77777777777779\n",
      "78.7878787878788\n",
      "79.7979797979798\n",
      "80.80808080808082\n",
      "81.81818181818183\n",
      "82.82828282828284\n",
      "83.83838383838385\n",
      "84.84848484848486\n",
      "85.85858585858587\n",
      "86.86868686868688\n",
      "87.87878787878789\n",
      "88.8888888888889\n",
      "89.89898989898991\n",
      "90.90909090909092\n",
      "91.91919191919193\n",
      "92.92929292929294\n",
      "93.93939393939395\n",
      "94.94949494949496\n",
      "95.95959595959597\n",
      "96.96969696969697\n",
      "97.97979797979798\n",
      "98.98989898989899\n",
      "100.0\n"
     ]
    }
   ],
   "source": [
    "array2D_a_caso = np.linspace(0,100,100).reshape((10,10))\n",
    "\n",
    "forma = array2D_a_caso.shape #questo è un tuple\n",
    "\n",
    "for i in range(forma[0]):\n",
    "    for j in range(forma[1]):\n",
    "        print(array2D_a_caso[i][j])# uguale a array[i,j]"
   ]
  },
  {
   "cell_type": "markdown",
   "metadata": {},
   "source": [
    "# Knight's Walk\n",
    "\n",
    "esempio tratto da \n",
    "https://www.youtube.com/watch?v=RGQe8waGJ4w (runtime: 6:12)"
   ]
  },
  {
   "cell_type": "markdown",
   "metadata": {},
   "source": [
    "## Parte I : Initilizzazione della scacchiera\n",
    "\n",
    "Ci servirà una matrice a 2 dimensioni. La matrice avrà dimensioni $(2n+1)*(2n+1)$, con n = numero intero (int)\n",
    "\n",
    "La scacchiera avrà centro con coordinate (n,n).\n",
    "\n",
    "Riempiamo l'array con numeri interi e a spirale. Ad esempio:\n",
    "```python\n",
    "board = initialize_board(3)\n",
    "```\n",
    "\n",
    "il risultato sarà:\n",
    "```julia\n",
    "7×7 Array{Int64,2}:\n",
    " 37  36  35  34  33  32  31\n",
    " 38  17  16  15  14  13  30\n",
    " 39  18   5   4   3  12  29\n",
    " 40  19   6   1   2  11  28\n",
    " 41  20   7   8   9  10  27\n",
    " 42  21  22  23  24  25  26\n",
    " 43  44  45  46  47  48  49\n",
    "```\n",
    "\n",
    "*Note:*\n",
    "- Python usa indici con base 0, il centro dell'array `board` è l'elemento `board[n,n]`, non `board[0,0]`\n",
    "- Dopo aver trovato il centro, inserendo il valore 1, dobbiamo considerare esattamente $n$ \"Cerchi\" di raggio maggiore. Useremo un for-loop.\n",
    "- In ogni cerchio, ci sono 4 segmenti (su, sinistra, giù, destra) che possiamo gestire con 4 for-loops\n",
    "."
   ]
  },
  {
   "cell_type": "code",
   "execution_count": 30,
   "metadata": {},
   "outputs": [],
   "source": [
    "import numpy as np\n",
    "\n",
    "def initialize_board(n):\n",
    "    dim_board = 2*n + 1\n",
    "    board = np.zeros((dim_board, dim_board), dtype=int)\n",
    "\n",
    "    board[n,n] = 1\n",
    "\n",
    "    i=2\n",
    "\n",
    "    #per ogni cerchio: (for)\n",
    "    for circle in range(1, n+1):\n",
    "        #esempio di come fare:\n",
    "        # board[n,n+circle] = i\n",
    "        # i += 1\n",
    "        #riempi segmento destro (for)\n",
    "        for dx in range(n+circle-1, n-circle-1, -1):\n",
    "            board[dx, n+circle] = i\n",
    "            i += 1\n",
    "        #riempi segmento superiore (for)\n",
    "        for sp in range(n+circle, n-circle, -1):\n",
    "            board[n-circle, sp-1] = i\n",
    "            i += 1        \n",
    "        #riempi segmento sinistro (for)\n",
    "        for sx in range(n-circle, n+circle):\n",
    "            board[sx+1, n-circle] = i\n",
    "            i += 1\n",
    "        #riempi segmento inferiore (for)\n",
    "        for ip in range(n-circle, n+circle):\n",
    "            board[n+circle, ip+1] = i\n",
    "            i += 1\n",
    "\n",
    "    return board"
   ]
  },
  {
   "cell_type": "code",
   "execution_count": 31,
   "metadata": {},
   "outputs": [
    {
     "data": {
      "text/plain": [
       "array([[17, 16, 15, 14, 13],\n",
       "       [18,  5,  4,  3, 12],\n",
       "       [19,  6,  1,  2, 11],\n",
       "       [20,  7,  8,  9, 10],\n",
       "       [21, 22, 23, 24, 25]])"
      ]
     },
     "execution_count": 31,
     "metadata": {},
     "output_type": "execute_result"
    }
   ],
   "source": [
    "initialize_board(2)"
   ]
  },
  {
   "cell_type": "markdown",
   "metadata": {},
   "source": [
    "## Parte 2 - Simulare i salti\n",
    "\n",
    "Dobbiamo simulare e creare la sequenza numerica.\n",
    "\n",
    "Ci serve un'altra funzione che come input prenderà il nostro `board`.\n",
    "Questa funzione ci restituirà la sequenza e (dopo) le coordinate x e y\n",
    "\n",
    "Esempio di codice:\n",
    "```python\n",
    "board = initialize_board(2)\n",
    "seq, xs, ys = simulate_walk(board)\n",
    "print(\"Sequence = \", seq)\n",
    "print(\"x-coordinates = \", xs)\n",
    "print(\"y-coordinates = \", ys)\n",
    "```\n",
    "\n",
    "Risultato:\n",
    "```julia\n",
    "5×5 Array{Int64,2}:\n",
    " 17  16  15  14  13\n",
    " 18   5   4   3  12\n",
    " 19   6   1   2  11\n",
    " 20   7   8   9  10\n",
    " 21  22  23  24  25\n",
    "Sequence = [1, 10, 3, 6, 9, 4, 7, 2, 5, 8, 11, 14]\n",
    "```\n",
    "\n",
    "*Consigli:*\n",
    "- usare un array per indicare se il riquadro è stato visitato (bool)\n",
    "- attenzione a non far uscire il cavallo dalla scacchiera\n"
   ]
  },
  {
   "cell_type": "code",
   "execution_count": 34,
   "metadata": {},
   "outputs": [],
   "source": [
    "def simulate_walk(board):\n",
    "    sequenza = []\n",
    "    board_size = np.size(board, 0)\n",
    "    visited = np.zeros((board_size,board_size), dtype=bool)\n",
    "    center = board_size//2\n",
    "    x, y = center, center\n",
    "\n",
    "    visited[x,y] = True\n",
    "    sequenza.append(board[x,y])\n",
    "\n",
    "    # loop per trovare il resto della sequenza\n",
    "    dead = False\n",
    "    while not dead:\n",
    "        dead = True\n",
    "\n",
    "    return sequenza"
   ]
  },
  {
   "cell_type": "code",
   "execution_count": 35,
   "metadata": {},
   "outputs": [
    {
     "data": {
      "text/plain": [
       "[1]"
      ]
     },
     "execution_count": 35,
     "metadata": {},
     "output_type": "execute_result"
    }
   ],
   "source": [
    "board = initialize_board(2)\n",
    "simulate_walk(board)"
   ]
  },
  {
   "cell_type": "code",
   "execution_count": null,
   "metadata": {},
   "outputs": [],
   "source": [
    "#DA COMPLETARE"
   ]
  }
 ],
 "metadata": {
  "kernelspec": {
   "display_name": "Python 3",
   "language": "python",
   "name": "python3"
  },
  "language_info": {
   "codemirror_mode": {
    "name": "ipython",
    "version": 3
   },
   "file_extension": ".py",
   "mimetype": "text/x-python",
   "name": "python",
   "nbconvert_exporter": "python",
   "pygments_lexer": "ipython3",
   "version": "3.12.0"
  }
 },
 "nbformat": 4,
 "nbformat_minor": 2
}
