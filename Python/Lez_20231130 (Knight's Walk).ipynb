{
 "cells": [
  {
   "cell_type": "markdown",
   "metadata": {},
   "source": [
    "# Knight's Walk\n",
    "\n",
    "esempio tratto da \n",
    "https://www.youtube.com/watch?v=RGQe8waGJ4w (runtime: 6:12)"
   ]
  },
  {
   "cell_type": "markdown",
   "metadata": {},
   "source": [
    "## Parte I : Initilizzazione della scacchiera\n",
    "\n",
    "Ci servirà una matrice a 2 dimensioni. La matrice avrà dimensioni $(2n+1)*(2n+1)$, con n = numero intero (int)\n",
    "\n",
    "La scacchiera avrà centro con coordinate (n,n).\n",
    "\n",
    "Riempiamo l'array con numeri interi e a spirale. Ad esempio:\n",
    "```python\n",
    "board = initialize_board(3)\n",
    "```\n",
    "\n",
    "il risultato sarà:\n",
    "```julia\n",
    "7×7 Array{Int64,2}:\n",
    " 37  36  35  34  33  32  31\n",
    " 38  17  16  15  14  13  30\n",
    " 39  18   5   4   3  12  29\n",
    " 40  19   6   1   2  11  28\n",
    " 41  20   7   8   9  10  27\n",
    " 42  21  22  23  24  25  26\n",
    " 43  44  45  46  47  48  49\n",
    "```\n",
    "\n",
    "*Note:*\n",
    "- Python usa indici con base 0, il centro dell'array `board` è l'elemento `board[n,n]`, non `board[0,0]`\n",
    "- Dopo aver trovato il centro, inserendo il valore 1, dobbiamo considerare esattamente $n$ \"Cerchi\" di raggio maggiore. Useremo un for-loop.\n",
    "- In ogni cerchio, ci sono 4 segmenti (su, sinistra, giù, destra) che possiamo gestire con 4 for-loops\n",
    "."
   ]
  },
  {
   "cell_type": "code",
   "execution_count": 30,
   "metadata": {},
   "outputs": [],
   "source": [
    "import numpy as np\n",
    "\n",
    "def initialize_board(n):\n",
    "    dim_board = 2*n + 1\n",
    "    board = np.zeros((dim_board, dim_board), dtype=int)\n",
    "\n",
    "    board[n,n] = 1\n",
    "\n",
    "    i=2\n",
    "\n",
    "    #per ogni cerchio: (for)\n",
    "    for circle in range(1, n+1):\n",
    "        #esempio di come fare:\n",
    "        # board[n,n+circle] = i\n",
    "        # i += 1\n",
    "        #riempi segmento destro (for)\n",
    "        for dx in range(n+circle-1, n-circle-1, -1):\n",
    "            board[dx, n+circle] = i\n",
    "            i += 1\n",
    "        #riempi segmento superiore (for)\n",
    "        for sp in range(n+circle, n-circle, -1):\n",
    "            board[n-circle, sp-1] = i\n",
    "            i += 1        \n",
    "        #riempi segmento sinistro (for)\n",
    "        for sx in range(n-circle, n+circle):\n",
    "            board[sx+1, n-circle] = i\n",
    "            i += 1\n",
    "        #riempi segmento inferiore (for)\n",
    "        for ip in range(n-circle, n+circle):\n",
    "            board[n+circle, ip+1] = i\n",
    "            i += 1\n",
    "\n",
    "    return board"
   ]
  },
  {
   "cell_type": "code",
   "execution_count": 31,
   "metadata": {},
   "outputs": [
    {
     "data": {
      "text/plain": [
       "array([[17, 16, 15, 14, 13],\n",
       "       [18,  5,  4,  3, 12],\n",
       "       [19,  6,  1,  2, 11],\n",
       "       [20,  7,  8,  9, 10],\n",
       "       [21, 22, 23, 24, 25]])"
      ]
     },
     "execution_count": 31,
     "metadata": {},
     "output_type": "execute_result"
    }
   ],
   "source": [
    "initialize_board(2)"
   ]
  },
  {
   "cell_type": "markdown",
   "metadata": {},
   "source": [
    "## Parte 2 - Simulare i salti\n",
    "\n",
    "Dobbiamo simulare e creare la sequenza numerica.\n",
    "\n",
    "Ci serve un'altra funzione che come input prenderà il nostro `board`.\n",
    "Questa funzione ci restituirà la sequenza e (dopo) le coordinate x e y\n",
    "\n",
    "Esempio di codice:\n",
    "```python\n",
    "board = initialize_board(2)\n",
    "seq, xs, ys = simulate_walk(board)\n",
    "print(\"Sequence = \", seq)\n",
    "print(\"x-coordinates = \", xs)\n",
    "print(\"y-coordinates = \", ys)\n",
    "```\n",
    "\n",
    "Risultato:\n",
    "```julia\n",
    "5×5 Array{Int64,2}:\n",
    " 17  16  15  14  13\n",
    " 18   5   4   3  12\n",
    " 19   6   1   2  11\n",
    " 20   7   8   9  10\n",
    " 21  22  23  24  25\n",
    "Sequence = [1, 10, 3, 6, 9, 4, 7, 2, 5, 8, 11, 14]\n",
    "```\n",
    "\n",
    "*Consigli:*\n",
    "- usare un array per indicare se il riquadro è stato visitato (bool)\n",
    "- attenzione a non far uscire il cavallo dalla scacchiera\n"
   ]
  },
  {
   "cell_type": "code",
   "execution_count": 34,
   "metadata": {},
   "outputs": [],
   "source": [
    "def simulate_walk(board):\n",
    "    sequenza = []\n",
    "    board_size = np.size(board, 0)\n",
    "    visited = np.zeros((board_size,board_size), dtype=bool)\n",
    "    center = board_size//2\n",
    "    x, y = center, center\n",
    "\n",
    "    visited[x,y] = True\n",
    "    sequenza.append(board[x,y])\n",
    "\n",
    "    # loop per trovare il resto della sequenza\n",
    "    dead = False\n",
    "    while not dead:\n",
    "        dead = True\n",
    "\n",
    "    return sequenza"
   ]
  },
  {
   "cell_type": "code",
   "execution_count": 35,
   "metadata": {},
   "outputs": [
    {
     "data": {
      "text/plain": [
       "[1]"
      ]
     },
     "execution_count": 35,
     "metadata": {},
     "output_type": "execute_result"
    }
   ],
   "source": [
    "board = initialize_board(2)\n",
    "simulate_walk(board)"
   ]
  }
 ],
 "metadata": {
  "kernelspec": {
   "display_name": "Python 3",
   "language": "python",
   "name": "python3"
  },
  "language_info": {
   "codemirror_mode": {
    "name": "ipython",
    "version": 3
   },
   "file_extension": ".py",
   "mimetype": "text/x-python",
   "name": "python",
   "nbconvert_exporter": "python",
   "pygments_lexer": "ipython3",
   "version": "3.12.0"
  }
 },
 "nbformat": 4,
 "nbformat_minor": 2
}
