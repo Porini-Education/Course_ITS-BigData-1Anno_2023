{
 "cells": [
  {
   "cell_type": "markdown",
   "metadata": {},
   "source": [
    "# Esercizio di riscaldamento"
   ]
  },
  {
   "cell_type": "code",
   "execution_count": 21,
   "metadata": {},
   "outputs": [
    {
     "name": "stdout",
     "output_type": "stream",
     "text": [
      "pippo ha 5 lettere.\n",
      "pippo ha 5 lettere.\n",
      "pluto ha 5 lettere.\n",
      "pluto ha 5 lettere.\n",
      "paperino ha 8 lettere.\n",
      "paperino ha 8 lettere.\n"
     ]
    }
   ],
   "source": [
    "list_names = [\"pippo\",\"pluto\",\"paperino\"]\n",
    "\n",
    "# Costruire una funzione che mi dice il nome selezionato ha n lettere\n",
    "# Esempio: pippo ha 5 lettere\n",
    "for name in list_names:\n",
    "    print( name, \"ha\", len(name), \"lettere.\" )\n",
    "    print( f\"{name} ha {len(name)} lettere.\" )"
   ]
  },
  {
   "cell_type": "code",
   "execution_count": 29,
   "metadata": {},
   "outputs": [],
   "source": [
    "# Step di generalizzazione\n",
    "\n",
    "def ContaLettere(list_name_input, list_index):\n",
    "    string_evaluation = f\"{list_name_input[list_index]} ha {len(list_name_input[list_index])} lettere.\"\n",
    "    return string_evaluation\n",
    "\n",
    "def InserisciNome(list_name_input, new_name):\n",
    "    list_name_input.append(new_name)\n",
    "    return"
   ]
  },
  {
   "cell_type": "code",
   "execution_count": 30,
   "metadata": {},
   "outputs": [
    {
     "name": "stdout",
     "output_type": "stream",
     "text": [
      "pippo ha 5 lettere.\n",
      "pluto ha 5 lettere.\n",
      "paperino ha 8 lettere.\n",
      "['pippo', 'pluto', 'paperino', 'topolino']\n"
     ]
    }
   ],
   "source": [
    "list_names = [\"pippo\",\"pluto\",\"paperino\"]\n",
    "\n",
    "for i in range(len(list_names)):\n",
    "    print(ContaLettere(list_names,i))\n",
    "    \n",
    "InserisciNome(list_names, \"topolino\")\n",
    "\n",
    "print(list_names)"
   ]
  },
  {
   "cell_type": "code",
   "execution_count": 36,
   "metadata": {},
   "outputs": [
    {
     "data": {
      "image/png": "[encoded data removed]",
      "text/plain": [
       "<Figure size 640x480 with 1 Axes>"
      ]
     },
     "metadata": {},
     "output_type": "display_data"
    }
   ],
   "source": [
    "# grafico a barre in cui asse x = nomi, asse y = numero di lettere\n",
    "\n",
    "from matplotlib import pyplot as plt \n",
    "\n",
    "x_axis = list_names\n",
    "y_axis = [ len(e) for e in x_axis ] # for in line\n",
    "\n",
    "plt.bar(x_axis, y_axis)\n",
    "\n",
    "plt.title(\"Lista nomi\")\n",
    "plt.xlabel(\"Nomi\")\n",
    "plt.ylabel(\"# lettere\")\n",
    "\n",
    "plt.show()"
   ]
  },
  {
   "cell_type": "markdown",
   "metadata": {},
   "source": [
    "# Costruire la Classifica di Serie A"
   ]
  },
  {
   "cell_type": "markdown",
   "metadata": {},
   "source": [
    "### Versione 1"
   ]
  },
  {
   "cell_type": "code",
   "execution_count": 32,
   "metadata": {},
   "outputs": [
    {
     "name": "stdout",
     "output_type": "stream",
     "text": [
      "{'Inter': 41, 'Juventus': 37, 'Milan': 32}\n",
      "Punteggio Juventus: 37\n"
     ]
    }
   ],
   "source": [
    "array_squadra = [\"Inter\",\"Juventus\",\"Milan\"]\n",
    "array_punteggio = [41,37,32]\n",
    "\n",
    "Classifica_serieA = dict()\n",
    "for i in range(len(array_squadra)):\n",
    "    Classifica_serieA[array_squadra[i]] = array_punteggio[i]\n",
    "    \n",
    "print(Classifica_serieA)\n",
    "print(\"Punteggio Juventus:\",Classifica_serieA[\"Juventus\"])"
   ]
  },
  {
   "cell_type": "markdown",
   "metadata": {},
   "source": [
    "### Versione 2"
   ]
  },
  {
   "cell_type": "code",
   "execution_count": 37,
   "metadata": {},
   "outputs": [],
   "source": [
    "# costruisco una funzione a 3 parametri: diz, squadra, punt. diz[squadra] = punteggio\n",
    "\n",
    "# Classifica_serieA = {}\n",
    "\n",
    "def creaClassifica (dict_input, squadra, punteggio):\n",
    "    dict_input[squadra] = punteggio\n",
    "    return dict_input\n",
    "\n",
    "for i in range(20):\n",
    "    squadra = input(\"Inserisci una squadra: \")\n",
    "    punteggio = input(f\"Inserisci il punteggio della squadra {squadra}: \")\n",
    "    Classifica_serieA = creaClassifica(Classifica_serieA, squadra, punteggio)"
   ]
  },
  {
   "cell_type": "code",
   "execution_count": 41,
   "metadata": {},
   "outputs": [],
   "source": [
    "Classifica_serieA[\"Monza\"] = 21"
   ]
  },
  {
   "cell_type": "code",
   "execution_count": 42,
   "metadata": {},
   "outputs": [
    {
     "data": {
      "text/plain": [
       "{'Inter': '41',\n",
       " 'Juventus': '37',\n",
       " 'Milan': '32',\n",
       " 'Bologna': '28',\n",
       " 'Fiorentina': '27',\n",
       " 'Napoli': '27',\n",
       " 'Atalanta': '26',\n",
       " 'Roma': '25',\n",
       " 'Torino': '23',\n",
       " 'Monza': 21,\n",
       " 'Lazio': '21',\n",
       " 'Lecce': '20',\n",
       " 'Frosinone': '19',\n",
       " 'Genoa': '16',\n",
       " 'Sassuolo': '16',\n",
       " 'Cagliari': '13',\n",
       " 'Udinese': '13',\n",
       " 'Empoli': '12',\n",
       " 'Hellas Verona': '11',\n",
       " 'Salernitana': '8'}"
      ]
     },
     "execution_count": 42,
     "metadata": {},
     "output_type": "execute_result"
    }
   ],
   "source": [
    "Classifica_serieA"
   ]
  },
  {
   "cell_type": "markdown",
   "metadata": {},
   "source": [
    "#### vorrei convertire tutti i valori in numeri"
   ]
  },
  {
   "cell_type": "code",
   "execution_count": 46,
   "metadata": {},
   "outputs": [
    {
     "data": {
      "text/plain": [
       "{'Inter': 41,\n",
       " 'Juventus': 37,\n",
       " 'Milan': 32,\n",
       " 'Bologna': 28,\n",
       " 'Fiorentina': 27,\n",
       " 'Napoli': 27,\n",
       " 'Atalanta': 26,\n",
       " 'Roma': 25,\n",
       " 'Torino': 23,\n",
       " 'Monza': 21,\n",
       " 'Lazio': 21,\n",
       " 'Lecce': 20,\n",
       " 'Frosinone': 19,\n",
       " 'Genoa': 16,\n",
       " 'Sassuolo': 16,\n",
       " 'Cagliari': 13,\n",
       " 'Udinese': 13,\n",
       " 'Empoli': 12,\n",
       " 'Hellas Verona': 11,\n",
       " 'Salernitana': 8}"
      ]
     },
     "execution_count": 46,
     "metadata": {},
     "output_type": "execute_result"
    }
   ],
   "source": [
    "stringa = \"21\"\n",
    "numero = int(stringa)\n",
    "\n",
    "for squadra in Classifica_serieA:\n",
    "    Classifica_serieA[squadra] = int(Classifica_serieA[squadra])\n",
    "\n",
    "Classifica_serieA"
   ]
  },
  {
   "cell_type": "markdown",
   "metadata": {},
   "source": [
    "# Connessione a SQL Server"
   ]
  },
  {
   "cell_type": "code",
   "execution_count": 10,
   "metadata": {},
   "outputs": [
    {
     "name": "stdout",
     "output_type": "stream",
     "text": [
      "['SQL Server', 'SQL Server Native Client 11.0', 'SQL Server Native Client RDA 11.0', 'ODBC Driver 17 for SQL Server', 'Microsoft Access Driver (*.mdb, *.accdb)', 'Microsoft Excel Driver (*.xls, *.xlsx, *.xlsm, *.xlsb)', 'Microsoft Access Text Driver (*.txt, *.csv)']\n"
     ]
    }
   ],
   "source": [
    "import pyodbc\n",
    "\n",
    "# py ODBC: Open DataBase Connection\n",
    "print(pyodbc.drivers())\n",
    "driver = '{ODBC Driver 17 for SQL Server}'"
   ]
  },
  {
   "cell_type": "code",
   "execution_count": 13,
   "metadata": {},
   "outputs": [
    {
     "name": "stdout",
     "output_type": "stream",
     "text": [
      "DRIVER={ODBC Driver 17 for SQL Server};SERVER=localhost;DATABASE=testPython;Trusted_Connection=yes;\n"
     ]
    }
   ],
   "source": [
    "# La mia prima connessione\n",
    "driver = '{ODBC Driver 17 for SQL Server}'\n",
    "server = 'localhost'\n",
    "database = 'testPython'\n",
    "conn_string = f\"DRIVER={driver};SERVER={server};DATABASE={database};Trusted_Connection=yes;\"\n",
    "\n",
    "print(conn_string)"
   ]
  },
  {
   "cell_type": "code",
   "execution_count": 14,
   "metadata": {},
   "outputs": [],
   "source": [
    "cnxn = pyodbc.connect(conn_string)"
   ]
  },
  {
   "cell_type": "markdown",
   "metadata": {},
   "source": [
    "### Creazione di una tabella"
   ]
  },
  {
   "cell_type": "code",
   "execution_count": 16,
   "metadata": {},
   "outputs": [
    {
     "data": {
      "text/plain": [
       "<pyodbc.Cursor at 0x284d2a67a30>"
      ]
     },
     "execution_count": 16,
     "metadata": {},
     "output_type": "execute_result"
    }
   ],
   "source": [
    "cursor = cnxn.cursor()\n",
    "\n",
    "query = 'create table dbo.Colori (id int identity(1,1), colore varchar(50))'\n",
    "result = cursor.execute(query)\n",
    "result.commit()"
   ]
  },
  {
   "cell_type": "markdown",
   "metadata": {},
   "source": [
    "### Inserimento di record"
   ]
  },
  {
   "cell_type": "code",
   "execution_count": 24,
   "metadata": {},
   "outputs": [],
   "source": [
    "query = \"insert into dbo.Colori(colore) values ('rosso'),('bianco'),('verde')\"\n",
    "\n",
    "cursor.execute(query)\n",
    "cursor.commit()"
   ]
  },
  {
   "cell_type": "markdown",
   "metadata": {},
   "source": [
    "### Lettura di record"
   ]
  },
  {
   "cell_type": "code",
   "execution_count": 29,
   "metadata": {},
   "outputs": [],
   "source": [
    "query = \"SELECT [id],[colore] FROM [dbo].[Colori]\"\n",
    "\n",
    "table = []\n",
    "cursor.execute(query)\n",
    "for row in cursor:\n",
    "    table.append(row)"
   ]
  },
  {
   "cell_type": "code",
   "execution_count": 28,
   "metadata": {},
   "outputs": [],
   "source": [
    "# il cursore è oneshot: nel momento in cui apro il contenuto di una riga viene eliminata dal cursore\n",
    "for row in cursor:\n",
    "    print(row)"
   ]
  },
  {
   "cell_type": "code",
   "execution_count": 30,
   "metadata": {},
   "outputs": [
    {
     "data": {
      "text/plain": [
       "[(1, 'rosso'),\n",
       " (2, 'bianco'),\n",
       " (3, 'verde'),\n",
       " (4, 'rosso'),\n",
       " (5, 'bianco'),\n",
       " (6, 'verde')]"
      ]
     },
     "execution_count": 30,
     "metadata": {},
     "output_type": "execute_result"
    }
   ],
   "source": [
    "table"
   ]
  },
  {
   "cell_type": "code",
   "execution_count": 31,
   "metadata": {},
   "outputs": [],
   "source": [
    "query = \"SELECT [id],[colore] FROM [dbo].[Colori]\"\n",
    "\n",
    "table = []\n",
    "cursor.execute(query)\n",
    "table = cursor.fetchall()"
   ]
  },
  {
   "cell_type": "code",
   "execution_count": 32,
   "metadata": {},
   "outputs": [
    {
     "data": {
      "text/plain": [
       "[(1, 'rosso'),\n",
       " (2, 'bianco'),\n",
       " (3, 'verde'),\n",
       " (4, 'rosso'),\n",
       " (5, 'bianco'),\n",
       " (6, 'verde')]"
      ]
     },
     "execution_count": 32,
     "metadata": {},
     "output_type": "execute_result"
    }
   ],
   "source": [
    "table"
   ]
  },
  {
   "cell_type": "markdown",
   "metadata": {},
   "source": [
    "### Creazione della Classifica di Serie A tramite stored_procedure\n",
    "\n",
    "```sql \n",
    "create procedure dbo.jsonInput @json nvarchar(max) as\n",
    "-- isjson, json_value, json_query, openjson\n",
    "\n",
    "IF ISJSON(@json) = 1\n",
    "\tdrop table if exists dbo.Classifica_SerieA\n",
    "\n",
    "\tcreate table dbo.Classifica_SerieA (\n",
    "\tid int identity(1,1),\n",
    "\tSquadra varchar(20),\n",
    "\tPunteggio tinyint\n",
    "\t)\n",
    "\n",
    "\tinsert into dbo.Classifica_SerieA\n",
    "\t\tselect [key] as Squadra, [value] as Punteggio\n",
    "\t\tfrom openjson(@json)\n",
    "```"
   ]
  },
  {
   "cell_type": "code",
   "execution_count": 35,
   "metadata": {},
   "outputs": [
    {
     "name": "stdout",
     "output_type": "stream",
     "text": [
      "exec dbo.jsonInput \n"
     ]
    }
   ],
   "source": [
    "query = f\"exec dbo.jsonInput \"\n",
    "print(query)"
   ]
  },
  {
   "cell_type": "markdown",
   "metadata": {},
   "source": [
    "`%pip install json`"
   ]
  },
  {
   "cell_type": "code",
   "execution_count": 39,
   "metadata": {},
   "outputs": [
    {
     "name": "stdout",
     "output_type": "stream",
     "text": [
      "[(1, 'Inter', 41), (2, 'Juventus', 37), (3, 'Milan', 32), (4, 'Bologna', 28), (5, 'Fiorentina', 27), (6, 'Napoli', 27), (7, 'Atalanta', 26), (8, 'Roma', 25), (9, 'Torino', 23), (10, 'Monza', 21), (11, 'Lazio', 21), (12, 'Lecce', 20), (13, 'Frosinone', 19), (14, 'Genoa', 16), (15, 'Sassuolo', 16), (16, 'Cagliari', 13), (17, 'Udinese', 13), (18, 'Empoli', 12), (19, 'Hellas Verona', 11), (20, 'Salernitana', 8)]\n"
     ]
    }
   ],
   "source": [
    "import json\n",
    "\n",
    "Classifica_serieA_JSON = json.dumps(Classifica_serieA)\n",
    "query = f\"exec dbo.jsonInput '{Classifica_serieA_JSON}'\"\n",
    "cursor.execute(query)\n",
    "cursor.commit()\n",
    "\n",
    "cursor.execute(\"Select * from dbo.Classifica_SerieA\")\n",
    "print(cursor.fetchall())"
   ]
  },
  {
   "cell_type": "code",
   "execution_count": 40,
   "metadata": {},
   "outputs": [],
   "source": [
    "cursor.execute(\"truncate table dbo.Classifica_SerieA\").commit()"
   ]
  },
  {
   "cell_type": "code",
   "execution_count": 41,
   "metadata": {},
   "outputs": [
    {
     "name": "stdout",
     "output_type": "stream",
     "text": [
      "[(1, 'Inter', 41), (2, 'Juventus', 37), (3, 'Milan', 32), (4, 'Bologna', 28), (5, 'Fiorentina', 27), (6, 'Napoli', 27), (7, 'Atalanta', 26), (8, 'Roma', 25), (9, 'Torino', 23), (10, 'Monza', 21), (11, 'Lazio', 21), (12, 'Lecce', 20), (13, 'Frosinone', 19), (14, 'Genoa', 16), (15, 'Sassuolo', 16), (16, 'Cagliari', 13), (17, 'Udinese', 13), (18, 'Empoli', 12), (19, 'Hellas Verona', 11), (20, 'Salernitana', 8)]\n"
     ]
    }
   ],
   "source": [
    "for item in Classifica_serieA:\n",
    "    cursor.execute( \"insert into dbo.Classifica_SerieA values (?,?)\", item, Classifica_serieA[item]).commit()\n",
    "\n",
    "cursor.execute(\"Select * from dbo.Classifica_SerieA\")\n",
    "print(cursor.fetchall())"
   ]
  }
 ],
 "metadata": {
  "kernelspec": {
   "display_name": "base",
   "language": "python",
   "name": "python3"
  },
  "language_info": {
   "codemirror_mode": {
    "name": "ipython",
    "version": 3
   },
   "file_extension": ".py",
   "mimetype": "text/x-python",
   "name": "python",
   "nbconvert_exporter": "python",
   "pygments_lexer": "ipython3",
   "version": "3.9.13"
  }
 },
 "nbformat": 4,
 "nbformat_minor": 2
}
